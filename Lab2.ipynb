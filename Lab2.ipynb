{
  "cells": [
    {
      "cell_type": "markdown",
      "metadata": {
        "id": "VDeSjCfpKBLI"
      },
      "source": [
        "## Lab 2\n",
        "### Name: Behnam Sobhani Nadri\n",
        "### Student ID: 801368949\n"
      ]
    },
    {
      "cell_type": "markdown",
      "metadata": {
        "id": "EWjeE_0_FMn4"
      },
      "source": [
        "## All libraries that we use in the lab is defined here"
      ]
    },
    {
      "cell_type": "code",
      "execution_count": 39,
      "metadata": {
        "colab": {
          "base_uri": "https://localhost:8080/"
        },
        "id": "JVNYSOPOOZTo",
        "outputId": "4f9dd078-b064-4a50-ad0c-25c42c9d470f"
      },
      "outputs": [
        {
          "output_type": "stream",
          "name": "stdout",
          "text": [
            "Drive already mounted at /content/drive; to attempt to forcibly remount, call drive.mount(\"/content/drive\", force_remount=True).\n"
          ]
        }
      ],
      "source": [
        "%matplotlib inline\n",
        "import matplotlib.pyplot as plt\n",
        "import numpy as np\n",
        "import os\n",
        "import pandas as pd\n",
        "import numpy as np\n",
        "import pylab as pl\n",
        "from sklearn import preprocessing\n",
        "from google.colab import drive\n",
        "drive.mount('/content/drive')"
      ]
    },
    {
      "cell_type": "markdown",
      "metadata": {
        "id": "nez9xS1lFzXY"
      },
      "source": [
        "## Cost function and the Gradient Descent Algorithm"
      ]
    },
    {
      "cell_type": "code",
      "execution_count": 40,
      "metadata": {
        "id": "6_DmG4xfX4wA"
      },
      "outputs": [],
      "source": [
        "def compute_cost(X, y, theta):\n",
        "    m_y = len(y)\n",
        "    predictions = X.dot(theta)\n",
        "    errors = np.subtract(predictions, y)\n",
        "    sqrErrors = np.square(errors)\n",
        "    J = 1 / (2 * m_y) * np.sum(sqrErrors)\n",
        "    return J\n",
        "\n",
        "def gradient_descent(X, y, theta, alpha, iterations):\n",
        "    m_y = len(y)\n",
        "    cost_history = np.zeros(iterations)\n",
        "    for i in range(iterations):\n",
        "        predictions = X.dot(theta)\n",
        "        errors = np.subtract(predictions, y)\n",
        "        sum_delta = (alpha / m_y) * X.transpose().dot(errors);\n",
        "        theta = theta - sum_delta;\n",
        "        cost_history[i] = compute_cost(X, y, theta)\n",
        "    return theta, cost_history\n"
      ]
    },
    {
      "cell_type": "markdown",
      "metadata": {
        "id": "xrVk05vUE0OI"
      },
      "source": [
        "## This block reads the dataset from the csv file and choose the target explanatory variable"
      ]
    },
    {
      "cell_type": "code",
      "execution_count": 41,
      "metadata": {
        "id": "6HA2u5H_50sf"
      },
      "outputs": [],
      "source": [
        "file_path = '/content/drive/My Drive/Courses/Intro to ML/Lab2/Housing.csv'\n",
        "df = pd.read_csv(file_path)\n",
        "split = 0.20 # Split ratio\n",
        "a = int(df.shape[0]*(1-split))\n",
        "\n",
        "df_train = df.iloc[0:a,:]\n",
        "df_valid = df.iloc[a:,:]\n",
        "\n",
        "y_train = df_train.values[:, 0]\n",
        "y_valid = df_valid.values[:, 0]\n",
        "\n",
        "df_train1 = (df_train.iloc[:,[5,6,7,8,9,11]] == \"yes\").replace(True,1).replace(False,0)\n",
        "df_train = pd.concat([df_train.iloc[:,[0,1,2,3,4,10,12]], df_train1], axis = 1)\n",
        "df_valid1 = (df_valid.iloc[:,[5,6,7,8,9,11]] == \"yes\").replace(True,1).replace(False,0)\n",
        "df_valid = pd.concat([df_valid.iloc[:,[0,1,2,3,4,10,12]], df_valid1], axis = 1)"
      ]
    },
    {
      "cell_type": "markdown",
      "metadata": {
        "id": "_5C8vEeXVVOw"
      },
      "source": [
        "## Problem I A: Develop a gradient decent training and evaluation code, from scratch, that predicts housing price based on the following input variables:\n",
        "\n",
        "## Area, bedrooms, bathrooms, stories, parking"
      ]
    },
    {
      "cell_type": "code",
      "execution_count": 42,
      "metadata": {
        "colab": {
          "base_uri": "https://localhost:8080/",
          "height": 423
        },
        "id": "cPd9VRy_BY4H",
        "outputId": "5e375fc6-3cdf-4807-f24e-1604b0d4951d"
      },
      "outputs": [
        {
          "output_type": "execute_result",
          "data": {
            "text/plain": [
              "        price  area  bedrooms  bathrooms  stories  parking\n",
              "0    13300000  7420         4          2        3        2\n",
              "1    12250000  8960         4          4        4        3\n",
              "2    12250000  9960         3          2        2        2\n",
              "3    12215000  7500         4          2        2        3\n",
              "4    11410000  7420         4          1        2        2\n",
              "..        ...   ...       ...        ...      ...      ...\n",
              "431   3290000  3180         4          1        2        0\n",
              "432   3290000  6060         3          1        1        0\n",
              "433   3290000  3480         4          1        2        1\n",
              "434   3290000  3792         4          1        2        0\n",
              "435   3290000  4040         2          1        1        0\n",
              "\n",
              "[436 rows x 6 columns]"
            ],
            "text/html": [
              "\n",
              "  <div id=\"df-0d11587a-5e21-4a19-a423-96737cd32639\" class=\"colab-df-container\">\n",
              "    <div>\n",
              "<style scoped>\n",
              "    .dataframe tbody tr th:only-of-type {\n",
              "        vertical-align: middle;\n",
              "    }\n",
              "\n",
              "    .dataframe tbody tr th {\n",
              "        vertical-align: top;\n",
              "    }\n",
              "\n",
              "    .dataframe thead th {\n",
              "        text-align: right;\n",
              "    }\n",
              "</style>\n",
              "<table border=\"1\" class=\"dataframe\">\n",
              "  <thead>\n",
              "    <tr style=\"text-align: right;\">\n",
              "      <th></th>\n",
              "      <th>price</th>\n",
              "      <th>area</th>\n",
              "      <th>bedrooms</th>\n",
              "      <th>bathrooms</th>\n",
              "      <th>stories</th>\n",
              "      <th>parking</th>\n",
              "    </tr>\n",
              "  </thead>\n",
              "  <tbody>\n",
              "    <tr>\n",
              "      <th>0</th>\n",
              "      <td>13300000</td>\n",
              "      <td>7420</td>\n",
              "      <td>4</td>\n",
              "      <td>2</td>\n",
              "      <td>3</td>\n",
              "      <td>2</td>\n",
              "    </tr>\n",
              "    <tr>\n",
              "      <th>1</th>\n",
              "      <td>12250000</td>\n",
              "      <td>8960</td>\n",
              "      <td>4</td>\n",
              "      <td>4</td>\n",
              "      <td>4</td>\n",
              "      <td>3</td>\n",
              "    </tr>\n",
              "    <tr>\n",
              "      <th>2</th>\n",
              "      <td>12250000</td>\n",
              "      <td>9960</td>\n",
              "      <td>3</td>\n",
              "      <td>2</td>\n",
              "      <td>2</td>\n",
              "      <td>2</td>\n",
              "    </tr>\n",
              "    <tr>\n",
              "      <th>3</th>\n",
              "      <td>12215000</td>\n",
              "      <td>7500</td>\n",
              "      <td>4</td>\n",
              "      <td>2</td>\n",
              "      <td>2</td>\n",
              "      <td>3</td>\n",
              "    </tr>\n",
              "    <tr>\n",
              "      <th>4</th>\n",
              "      <td>11410000</td>\n",
              "      <td>7420</td>\n",
              "      <td>4</td>\n",
              "      <td>1</td>\n",
              "      <td>2</td>\n",
              "      <td>2</td>\n",
              "    </tr>\n",
              "    <tr>\n",
              "      <th>...</th>\n",
              "      <td>...</td>\n",
              "      <td>...</td>\n",
              "      <td>...</td>\n",
              "      <td>...</td>\n",
              "      <td>...</td>\n",
              "      <td>...</td>\n",
              "    </tr>\n",
              "    <tr>\n",
              "      <th>431</th>\n",
              "      <td>3290000</td>\n",
              "      <td>3180</td>\n",
              "      <td>4</td>\n",
              "      <td>1</td>\n",
              "      <td>2</td>\n",
              "      <td>0</td>\n",
              "    </tr>\n",
              "    <tr>\n",
              "      <th>432</th>\n",
              "      <td>3290000</td>\n",
              "      <td>6060</td>\n",
              "      <td>3</td>\n",
              "      <td>1</td>\n",
              "      <td>1</td>\n",
              "      <td>0</td>\n",
              "    </tr>\n",
              "    <tr>\n",
              "      <th>433</th>\n",
              "      <td>3290000</td>\n",
              "      <td>3480</td>\n",
              "      <td>4</td>\n",
              "      <td>1</td>\n",
              "      <td>2</td>\n",
              "      <td>1</td>\n",
              "    </tr>\n",
              "    <tr>\n",
              "      <th>434</th>\n",
              "      <td>3290000</td>\n",
              "      <td>3792</td>\n",
              "      <td>4</td>\n",
              "      <td>1</td>\n",
              "      <td>2</td>\n",
              "      <td>0</td>\n",
              "    </tr>\n",
              "    <tr>\n",
              "      <th>435</th>\n",
              "      <td>3290000</td>\n",
              "      <td>4040</td>\n",
              "      <td>2</td>\n",
              "      <td>1</td>\n",
              "      <td>1</td>\n",
              "      <td>0</td>\n",
              "    </tr>\n",
              "  </tbody>\n",
              "</table>\n",
              "<p>436 rows × 6 columns</p>\n",
              "</div>\n",
              "    <div class=\"colab-df-buttons\">\n",
              "\n",
              "  <div class=\"colab-df-container\">\n",
              "    <button class=\"colab-df-convert\" onclick=\"convertToInteractive('df-0d11587a-5e21-4a19-a423-96737cd32639')\"\n",
              "            title=\"Convert this dataframe to an interactive table.\"\n",
              "            style=\"display:none;\">\n",
              "\n",
              "  <svg xmlns=\"http://www.w3.org/2000/svg\" height=\"24px\" viewBox=\"0 -960 960 960\">\n",
              "    <path d=\"M120-120v-720h720v720H120Zm60-500h600v-160H180v160Zm220 220h160v-160H400v160Zm0 220h160v-160H400v160ZM180-400h160v-160H180v160Zm440 0h160v-160H620v160ZM180-180h160v-160H180v160Zm440 0h160v-160H620v160Z\"/>\n",
              "  </svg>\n",
              "    </button>\n",
              "\n",
              "  <style>\n",
              "    .colab-df-container {\n",
              "      display:flex;\n",
              "      gap: 12px;\n",
              "    }\n",
              "\n",
              "    .colab-df-convert {\n",
              "      background-color: #E8F0FE;\n",
              "      border: none;\n",
              "      border-radius: 50%;\n",
              "      cursor: pointer;\n",
              "      display: none;\n",
              "      fill: #1967D2;\n",
              "      height: 32px;\n",
              "      padding: 0 0 0 0;\n",
              "      width: 32px;\n",
              "    }\n",
              "\n",
              "    .colab-df-convert:hover {\n",
              "      background-color: #E2EBFA;\n",
              "      box-shadow: 0px 1px 2px rgba(60, 64, 67, 0.3), 0px 1px 3px 1px rgba(60, 64, 67, 0.15);\n",
              "      fill: #174EA6;\n",
              "    }\n",
              "\n",
              "    .colab-df-buttons div {\n",
              "      margin-bottom: 4px;\n",
              "    }\n",
              "\n",
              "    [theme=dark] .colab-df-convert {\n",
              "      background-color: #3B4455;\n",
              "      fill: #D2E3FC;\n",
              "    }\n",
              "\n",
              "    [theme=dark] .colab-df-convert:hover {\n",
              "      background-color: #434B5C;\n",
              "      box-shadow: 0px 1px 3px 1px rgba(0, 0, 0, 0.15);\n",
              "      filter: drop-shadow(0px 1px 2px rgba(0, 0, 0, 0.3));\n",
              "      fill: #FFFFFF;\n",
              "    }\n",
              "  </style>\n",
              "\n",
              "    <script>\n",
              "      const buttonEl =\n",
              "        document.querySelector('#df-0d11587a-5e21-4a19-a423-96737cd32639 button.colab-df-convert');\n",
              "      buttonEl.style.display =\n",
              "        google.colab.kernel.accessAllowed ? 'block' : 'none';\n",
              "\n",
              "      async function convertToInteractive(key) {\n",
              "        const element = document.querySelector('#df-0d11587a-5e21-4a19-a423-96737cd32639');\n",
              "        const dataTable =\n",
              "          await google.colab.kernel.invokeFunction('convertToInteractive',\n",
              "                                                    [key], {});\n",
              "        if (!dataTable) return;\n",
              "\n",
              "        const docLinkHtml = 'Like what you see? Visit the ' +\n",
              "          '<a target=\"_blank\" href=https://colab.research.google.com/notebooks/data_table.ipynb>data table notebook</a>'\n",
              "          + ' to learn more about interactive tables.';\n",
              "        element.innerHTML = '';\n",
              "        dataTable['output_type'] = 'display_data';\n",
              "        await google.colab.output.renderOutput(dataTable, element);\n",
              "        const docLink = document.createElement('div');\n",
              "        docLink.innerHTML = docLinkHtml;\n",
              "        element.appendChild(docLink);\n",
              "      }\n",
              "    </script>\n",
              "  </div>\n",
              "\n",
              "\n",
              "<div id=\"df-bab6d587-6f66-47ee-87da-9d4c338d2dac\">\n",
              "  <button class=\"colab-df-quickchart\" onclick=\"quickchart('df-bab6d587-6f66-47ee-87da-9d4c338d2dac')\"\n",
              "            title=\"Suggest charts\"\n",
              "            style=\"display:none;\">\n",
              "\n",
              "<svg xmlns=\"http://www.w3.org/2000/svg\" height=\"24px\"viewBox=\"0 0 24 24\"\n",
              "     width=\"24px\">\n",
              "    <g>\n",
              "        <path d=\"M19 3H5c-1.1 0-2 .9-2 2v14c0 1.1.9 2 2 2h14c1.1 0 2-.9 2-2V5c0-1.1-.9-2-2-2zM9 17H7v-7h2v7zm4 0h-2V7h2v10zm4 0h-2v-4h2v4z\"/>\n",
              "    </g>\n",
              "</svg>\n",
              "  </button>\n",
              "\n",
              "<style>\n",
              "  .colab-df-quickchart {\n",
              "      --bg-color: #E8F0FE;\n",
              "      --fill-color: #1967D2;\n",
              "      --hover-bg-color: #E2EBFA;\n",
              "      --hover-fill-color: #174EA6;\n",
              "      --disabled-fill-color: #AAA;\n",
              "      --disabled-bg-color: #DDD;\n",
              "  }\n",
              "\n",
              "  [theme=dark] .colab-df-quickchart {\n",
              "      --bg-color: #3B4455;\n",
              "      --fill-color: #D2E3FC;\n",
              "      --hover-bg-color: #434B5C;\n",
              "      --hover-fill-color: #FFFFFF;\n",
              "      --disabled-bg-color: #3B4455;\n",
              "      --disabled-fill-color: #666;\n",
              "  }\n",
              "\n",
              "  .colab-df-quickchart {\n",
              "    background-color: var(--bg-color);\n",
              "    border: none;\n",
              "    border-radius: 50%;\n",
              "    cursor: pointer;\n",
              "    display: none;\n",
              "    fill: var(--fill-color);\n",
              "    height: 32px;\n",
              "    padding: 0;\n",
              "    width: 32px;\n",
              "  }\n",
              "\n",
              "  .colab-df-quickchart:hover {\n",
              "    background-color: var(--hover-bg-color);\n",
              "    box-shadow: 0 1px 2px rgba(60, 64, 67, 0.3), 0 1px 3px 1px rgba(60, 64, 67, 0.15);\n",
              "    fill: var(--button-hover-fill-color);\n",
              "  }\n",
              "\n",
              "  .colab-df-quickchart-complete:disabled,\n",
              "  .colab-df-quickchart-complete:disabled:hover {\n",
              "    background-color: var(--disabled-bg-color);\n",
              "    fill: var(--disabled-fill-color);\n",
              "    box-shadow: none;\n",
              "  }\n",
              "\n",
              "  .colab-df-spinner {\n",
              "    border: 2px solid var(--fill-color);\n",
              "    border-color: transparent;\n",
              "    border-bottom-color: var(--fill-color);\n",
              "    animation:\n",
              "      spin 1s steps(1) infinite;\n",
              "  }\n",
              "\n",
              "  @keyframes spin {\n",
              "    0% {\n",
              "      border-color: transparent;\n",
              "      border-bottom-color: var(--fill-color);\n",
              "      border-left-color: var(--fill-color);\n",
              "    }\n",
              "    20% {\n",
              "      border-color: transparent;\n",
              "      border-left-color: var(--fill-color);\n",
              "      border-top-color: var(--fill-color);\n",
              "    }\n",
              "    30% {\n",
              "      border-color: transparent;\n",
              "      border-left-color: var(--fill-color);\n",
              "      border-top-color: var(--fill-color);\n",
              "      border-right-color: var(--fill-color);\n",
              "    }\n",
              "    40% {\n",
              "      border-color: transparent;\n",
              "      border-right-color: var(--fill-color);\n",
              "      border-top-color: var(--fill-color);\n",
              "    }\n",
              "    60% {\n",
              "      border-color: transparent;\n",
              "      border-right-color: var(--fill-color);\n",
              "    }\n",
              "    80% {\n",
              "      border-color: transparent;\n",
              "      border-right-color: var(--fill-color);\n",
              "      border-bottom-color: var(--fill-color);\n",
              "    }\n",
              "    90% {\n",
              "      border-color: transparent;\n",
              "      border-bottom-color: var(--fill-color);\n",
              "    }\n",
              "  }\n",
              "</style>\n",
              "\n",
              "  <script>\n",
              "    async function quickchart(key) {\n",
              "      const quickchartButtonEl =\n",
              "        document.querySelector('#' + key + ' button');\n",
              "      quickchartButtonEl.disabled = true;  // To prevent multiple clicks.\n",
              "      quickchartButtonEl.classList.add('colab-df-spinner');\n",
              "      try {\n",
              "        const charts = await google.colab.kernel.invokeFunction(\n",
              "            'suggestCharts', [key], {});\n",
              "      } catch (error) {\n",
              "        console.error('Error during call to suggestCharts:', error);\n",
              "      }\n",
              "      quickchartButtonEl.classList.remove('colab-df-spinner');\n",
              "      quickchartButtonEl.classList.add('colab-df-quickchart-complete');\n",
              "    }\n",
              "    (() => {\n",
              "      let quickchartButtonEl =\n",
              "        document.querySelector('#df-bab6d587-6f66-47ee-87da-9d4c338d2dac button');\n",
              "      quickchartButtonEl.style.display =\n",
              "        google.colab.kernel.accessAllowed ? 'block' : 'none';\n",
              "    })();\n",
              "  </script>\n",
              "</div>\n",
              "\n",
              "    </div>\n",
              "  </div>\n"
            ],
            "application/vnd.google.colaboratory.intrinsic+json": {
              "type": "dataframe",
              "summary": "{\n  \"name\": \"df_train\",\n  \"rows\": 436,\n  \"fields\": [\n    {\n      \"column\": \"price\",\n      \"properties\": {\n        \"dtype\": \"number\",\n        \"std\": 1738899,\n        \"min\": 3290000,\n        \"max\": 13300000,\n        \"num_unique_values\": 175,\n        \"samples\": [\n          3710000,\n          4025000,\n          5040000\n        ],\n        \"semantic_type\": \"\",\n        \"description\": \"\"\n      }\n    },\n    {\n      \"column\": \"area\",\n      \"properties\": {\n        \"dtype\": \"number\",\n        \"std\": 2207,\n        \"min\": 1905,\n        \"max\": 16200,\n        \"num_unique_values\": 251,\n        \"samples\": [\n          2550,\n          8100,\n          3162\n        ],\n        \"semantic_type\": \"\",\n        \"description\": \"\"\n      }\n    },\n    {\n      \"column\": \"bedrooms\",\n      \"properties\": {\n        \"dtype\": \"number\",\n        \"std\": 0,\n        \"min\": 2,\n        \"max\": 6,\n        \"num_unique_values\": 5,\n        \"samples\": [\n          3,\n          6,\n          5\n        ],\n        \"semantic_type\": \"\",\n        \"description\": \"\"\n      }\n    },\n    {\n      \"column\": \"bathrooms\",\n      \"properties\": {\n        \"dtype\": \"number\",\n        \"std\": 0,\n        \"min\": 1,\n        \"max\": 4,\n        \"num_unique_values\": 4,\n        \"samples\": [\n          4,\n          3,\n          2\n        ],\n        \"semantic_type\": \"\",\n        \"description\": \"\"\n      }\n    },\n    {\n      \"column\": \"stories\",\n      \"properties\": {\n        \"dtype\": \"number\",\n        \"std\": 0,\n        \"min\": 1,\n        \"max\": 4,\n        \"num_unique_values\": 4,\n        \"samples\": [\n          4,\n          1,\n          3\n        ],\n        \"semantic_type\": \"\",\n        \"description\": \"\"\n      }\n    },\n    {\n      \"column\": \"parking\",\n      \"properties\": {\n        \"dtype\": \"number\",\n        \"std\": 0,\n        \"min\": 0,\n        \"max\": 3,\n        \"num_unique_values\": 4,\n        \"samples\": [\n          3,\n          1,\n          2\n        ],\n        \"semantic_type\": \"\",\n        \"description\": \"\"\n      }\n    }\n  ]\n}"
            }
          },
          "metadata": {},
          "execution_count": 42
        }
      ],
      "source": [
        "df_train.iloc[:,[0,1,2,3,4,5]]"
      ]
    },
    {
      "cell_type": "code",
      "execution_count": 43,
      "metadata": {
        "id": "GTLG0bxe5Ua7"
      },
      "outputs": [],
      "source": [
        "X1_train = df_train.values[:, 1]\n",
        "X2_train = df_train.values[:, 2]\n",
        "X3_train = df_train.values[:, 3]\n",
        "X4_train = df_train.values[:, 4]\n",
        "X5_train = df_train.values[:, 5]\n",
        "\n",
        "X1_valid = df_valid.values[:, 1]\n",
        "X2_valid = df_valid.values[:, 2]\n",
        "X3_valid = df_valid.values[:, 3]\n",
        "X4_valid = df_valid.values[:, 4]\n",
        "X5_valid = df_valid.values[:, 5]\n",
        "\n",
        "m_train = len(y_train)\n",
        "m_valid = len(y_valid)\n",
        "n_train = len(X1_train)\n",
        "n_valid = len(X1_valid)\n",
        "\n",
        "X_0_train = np.ones((m_train, 1))\n",
        "X_1_train = X1_train.reshape(m_train, 1)\n",
        "X_2_train = X2_train.reshape(m_train, 1)\n",
        "X_3_train = X3_train.reshape(m_train, 1)\n",
        "X_4_train = X4_train.reshape(m_train, 1)\n",
        "X_5_train = X5_train.reshape(m_train, 1)\n",
        "X_train = np.hstack((X_0_train, X_1_train, X_2_train, X_3_train, X_4_train, X_5_train))\n",
        "\n",
        "\n",
        "X_0_valid = np.ones((m_valid, 1))\n",
        "X_1_valid = X1_valid.reshape(m_valid, 1)\n",
        "X_2_valid = X2_valid.reshape(m_valid, 1)\n",
        "X_3_valid = X3_valid.reshape(m_valid, 1)\n",
        "X_4_valid = X4_valid.reshape(m_valid, 1)\n",
        "X_5_valid = X5_valid.reshape(m_valid, 1)\n",
        "X_valid = np.hstack((X_0_valid, X_1_valid, X_2_valid, X_3_valid, X_4_valid, X_5_valid))\n"
      ]
    },
    {
      "cell_type": "code",
      "execution_count": 44,
      "metadata": {
        "colab": {
          "base_uri": "https://localhost:8080/"
        },
        "id": "3PPFltdedHCo",
        "outputId": "19e80c1c-98d8-4599-9239-bad398138135"
      },
      "outputs": [
        {
          "output_type": "stream",
          "name": "stdout",
          "text": [
            " Maximum iterations: 100\n",
            "Learning rate is: 0.01\n",
            "θ is: [3, 1, 5, 100, 2, 3.4]\n"
          ]
        }
      ],
      "source": [
        "it = 100 # Maximum iterations\n",
        "# alpha = 0.000000010 # Learning Rate\n",
        "alpha = 0.01\n",
        "# alpha =   0.000000100 # Learning Rate\n",
        "\n",
        "# theta = np.zeros(6)\n",
        "# theta = [1,1,1,1,1,1]\n",
        "theta = [3,1,5,100,2,3.4]\n",
        "\n",
        "print(f' Maximum iterations: {it}')\n",
        "print(f'Learning rate is: {alpha}')\n",
        "print(f'θ is: {theta}')"
      ]
    },
    {
      "cell_type": "code",
      "execution_count": 45,
      "metadata": {
        "colab": {
          "base_uri": "https://localhost:8080/"
        },
        "id": "_OJttQ4-VJBz",
        "outputId": "fd49279e-0a3a-4d1c-d536-69cf46e7cc13"
      },
      "outputs": [
        {
          "output_type": "stream",
          "name": "stdout",
          "text": [
            "The cost of the test dataset for given values of theta_0 and theta_1 = 15404174799072.887\n",
            "The cost of the validation dataset for given values of theta_0 and theta_1 = 3780444810561.2163\n",
            "Final value of theta for test = [nan nan nan nan nan nan]\n",
            "Final value of theta for validation = [nan nan nan nan nan nan]\n"
          ]
        },
        {
          "output_type": "stream",
          "name": "stderr",
          "text": [
            "<ipython-input-40-26b51ea36a5e>:5: RuntimeWarning: overflow encountered in square\n",
            "  sqrErrors = np.square(errors)\n"
          ]
        }
      ],
      "source": [
        "cost_train = compute_cost(X_train, y_train, theta)\n",
        "print('The cost of the test dataset for given values of theta_0 and theta_1 =', cost_train)\n",
        "\n",
        "cost_valid = compute_cost(X_valid, y_valid, theta)\n",
        "print('The cost of the validation dataset for given values of theta_0 and theta_1 =', cost_valid)\n",
        "\n",
        "theta, cost_history_train = gradient_descent(X_train, y_train, theta, alpha, it)\n",
        "print('Final value of theta for test =', theta)\n",
        "\n",
        "theta, cost_history_valid = gradient_descent(X_valid, y_valid, theta, alpha, it)\n",
        "print('Final value of theta for validation =', theta)\n",
        "\n",
        "# theta_valid, cost_history_valid = gradient_descent(X_valid, y_valid, theta_valid, alpha, it)\n",
        "# print('Final value of theta for validation =', theta_valid)\n"
      ]
    },
    {
      "cell_type": "code",
      "execution_count": 46,
      "metadata": {
        "colab": {
          "base_uri": "https://localhost:8080/",
          "height": 564
        },
        "id": "TrIIn1RIEuR_",
        "outputId": "f2176874-8d67-4706-ace7-05d1e6c369ef"
      },
      "outputs": [
        {
          "output_type": "display_data",
          "data": {
            "text/plain": [
              "<Figure size 1000x600 with 1 Axes>"
            ],
            "image/png": "[encoded data removed]"
          },
          "metadata": {}
        }
      ],
      "source": [
        "plt.scatter(X_train[:,1], y_train, color='b', marker= '+', label= 'Training Data')\n",
        "plt.plot(X_train[:,1],X_train.dot(theta), color='r', label='Linear Regression')\n",
        "plt.rcParams[\"figure.figsize\"] = (10,6)\n",
        "plt.xlabel('Features')\n",
        "plt.ylabel('House Price($)')\n",
        "plt.title(f'LR, X1, learning rate={alpha}, iteration={it}')\n",
        "plt.legend()\n",
        "plt.grid()"
      ]
    },
    {
      "cell_type": "code",
      "execution_count": 47,
      "metadata": {
        "colab": {
          "base_uri": "https://localhost:8080/",
          "height": 564
        },
        "id": "AJEqPh8iEvGv",
        "outputId": "6e73e2e1-e422-4aa9-ce7b-f39b861d9912"
      },
      "outputs": [
        {
          "output_type": "display_data",
          "data": {
            "text/plain": [
              "<Figure size 1000x600 with 1 Axes>"
            ],
            "image/png": "[encoded data removed]"
          },
          "metadata": {}
        }
      ],
      "source": [
        "plt.scatter(X_valid[:,1], y_valid, color='b', marker= '+', label= 'Training Data')\n",
        "plt.plot(X_valid[:,1], X_valid.dot(theta), color='r', label='Linear Regression')\n",
        "plt.rcParams[\"figure.figsize\"] = (10,6)\n",
        "plt.xlabel('Features')\n",
        "plt.ylabel('House Price($)')\n",
        "plt.title(f'LR, X1, learning rate={alpha}, iteration={it}')\n",
        "plt.legend()\n",
        "plt.grid()"
      ]
    },
    {
      "cell_type": "code",
      "execution_count": 48,
      "metadata": {
        "colab": {
          "base_uri": "https://localhost:8080/",
          "height": 619
        },
        "id": "5ZZRsNMi1PRb",
        "outputId": "20f42106-a8f6-46bf-fb9c-c17f839da934"
      },
      "outputs": [
        {
          "output_type": "stream",
          "name": "stderr",
          "text": [
            "WARNING:matplotlib.legend:No artists with labels found to put in legend.  Note that artists whose label start with an underscore are ignored when legend() is called with no argument.\n"
          ]
        },
        {
          "output_type": "execute_result",
          "data": {
            "text/plain": [
              "<matplotlib.legend.Legend at 0x7e35b2f64e80>"
            ]
          },
          "metadata": {},
          "execution_count": 48
        },
        {
          "output_type": "display_data",
          "data": {
            "text/plain": [
              "<Figure size 1000x600 with 1 Axes>"
            ],
            "image/png": "[encoded data removed]"
          },
          "metadata": {}
        }
      ],
      "source": [
        "plt.plot(range(1, it + 1), cost_history_train)\n",
        "plt.plot(range(1, it + 1), cost_history_valid)\n",
        "\n",
        "plt.rcParams[\"figure.figsize\"] = (10,6)\n",
        "plt.grid(1)\n",
        "plt.xlabel('Number of iterations')\n",
        "plt.ylabel('Cost (J)')\n",
        "plt.title(f'Convergence, learning rate={alpha}, iteration={it}')\n",
        "plt.legend()\n"
      ]
    },
    {
      "cell_type": "markdown",
      "metadata": {
        "id": "j3zIH9TsGNOm"
      },
      "source": [
        "# Problem II A"
      ]
    },
    {
      "cell_type": "markdown",
      "metadata": {
        "id": "hyiy6wN0SdHa"
      },
      "source": [
        "## Repeat problem 1 a, this time with input normalization and input standardization as part of your pre-processing logic. You need to perform two separate trainings for standardization and normalization. **In both cases, you do not need to normalize the output**\n",
        "\n",
        "### Plot the training and validation losses for both training and validation sets based on input standardization and input normalization. Compare your training accuracy between both scaling approaches and the baseline training in problem 1 b. Which input scaling achieves the best training? Explain your results"
      ]
    },
    {
      "cell_type": "code",
      "execution_count": 127,
      "metadata": {
        "id": "4Ca7QsX2A0kM"
      },
      "outputs": [],
      "source": [
        "# scaler = 'normalize'\n",
        "scaler = 'standard'\n",
        "\n",
        "df_train = df.iloc[0:a,:]\n",
        "df_valid = df.iloc[a:,:]\n",
        "y_train = df_train.values[:, 0]\n",
        "y_valid = df_valid.values[:, 0]\n",
        "\n",
        "df_train1 = (df_train.iloc[:,[5,6,7,8,9,11]] == \"yes\").replace(True,1).replace(False,0)\n",
        "df_train = pd.concat([df_train.iloc[:,[0,1,2,3,4,10,12]], df_train1], axis = 1)\n",
        "\n",
        "df_valid1 = (df_valid.iloc[:,[5,6,7,8,9,11]] == \"yes\").replace(True,1).replace(False,0)\n",
        "df_valid = pd.concat([df_valid.iloc[:,[0,1,2,3,4,10,12]], df_valid1], axis = 1)\n",
        "\n",
        "df_train_s = df_train.drop(['price','furnishingstatus'], axis='columns')\n",
        "df_valid_s = df_valid.drop(['price','furnishingstatus'], axis='columns')\n",
        "\n",
        "if scaler == 'normalize':\n",
        "    min_max_scaled= preprocessing.MinMaxScaler()\n",
        "else:\n",
        "    min_max_scaled= preprocessing.StandardScaler()\n",
        "\n",
        "df_train_scaled = min_max_scaled.fit_transform(df_train_s)\n",
        "df_valid_scaled = min_max_scaled.fit_transform(df_valid_s)\n",
        "df_train_scaled = pd.DataFrame(df_train_scaled)\n",
        "df_valid_scaled = pd.DataFrame(df_valid_scaled)\n",
        "# df_train_scaled\n"
      ]
    },
    {
      "cell_type": "code",
      "execution_count": 50,
      "metadata": {
        "id": "bmugd2C20uJB"
      },
      "outputs": [],
      "source": [
        "X1_train_scaled = df_train_scaled.values[:, 0]\n",
        "X2_train_scaled = df_train_scaled.values[:, 1]\n",
        "X3_train_scaled = df_train_scaled.values[:, 2]\n",
        "X4_train_scaled = df_train_scaled.values[:, 3]\n",
        "X5_train_scaled = df_train_scaled.values[:, 4]\n",
        "\n",
        "X1_valid_scaled = df_valid_scaled.values[:, 0]\n",
        "X2_valid_scaled = df_valid_scaled.values[:, 1]\n",
        "X3_valid_scaled = df_valid_scaled.values[:, 2]\n",
        "X4_valid_scaled = df_valid_scaled.values[:, 3]\n",
        "X5_valid_scaled = df_valid_scaled.values[:, 4]\n",
        "\n",
        "m_train = len(y_train)\n",
        "m_valid = len(y_valid)\n",
        "n_train = len(X1_train_scaled)\n",
        "n_valid = len(X1_valid_scaled)\n",
        "\n",
        "X_0_train_scaled = np.ones((m_train, 1))\n",
        "X_1_train_scaled = X1_train_scaled.reshape(m_train, 1)\n",
        "X_2_train_scaled = X2_train_scaled.reshape(m_train, 1)\n",
        "X_3_train_scaled = X3_train_scaled.reshape(m_train, 1)\n",
        "X_4_train_scaled = X4_train_scaled.reshape(m_train, 1)\n",
        "\n",
        "\n",
        "X_0_valid_scaled = np.ones((m_valid, 1))\n",
        "X_1_valid_scaled = X1_valid_scaled.reshape(m_valid, 1)\n",
        "X_2_valid_scaled = X2_valid_scaled.reshape(m_valid, 1)\n",
        "X_3_valid_scaled = X3_valid_scaled.reshape(m_valid, 1)\n",
        "X_4_valid_scaled = X4_valid_scaled.reshape(m_valid, 1)\n",
        "\n",
        "X_train_scaled = np.hstack((X_0_train_scaled, X_1_train_scaled, X_2_train_scaled, X_3_train_scaled, X_4_train_scaled))\n",
        "X_valid_scaled = np.hstack((X_0_valid_scaled, X_1_valid_scaled, X_2_valid_scaled, X_3_valid_scaled, X_4_valid_scaled))"
      ]
    },
    {
      "cell_type": "code",
      "execution_count": 51,
      "metadata": {
        "colab": {
          "base_uri": "https://localhost:8080/"
        },
        "id": "PB9B1en8KZNd",
        "outputId": "c326bd4b-76a1-4b47-9143-d723ac8ab968"
      },
      "outputs": [
        {
          "output_type": "stream",
          "name": "stdout",
          "text": [
            " Maximum iterations: 100\n",
            "Learning rate is: 0.1\n",
            "θ is: [3, 1, 5, 100, 3.4]\n"
          ]
        }
      ],
      "source": [
        "it = 100 # Maximum iterations\n",
        "alpha = 0.1 # Learning Rate\n",
        "# alpha = 0.01 # Learning Rate\n",
        "\n",
        "# theta_scaled = np.zeros(5)\n",
        "# theta_scaled = [1,1,1,1,1]\n",
        "theta_scaled = [3,1,5,100,3.4]\n",
        "\n",
        "print(f' Maximum iterations: {it}')\n",
        "print(f'Learning rate is: {alpha}')\n",
        "print(f'θ is: {theta_scaled}')"
      ]
    },
    {
      "cell_type": "code",
      "execution_count": 52,
      "metadata": {
        "colab": {
          "base_uri": "https://localhost:8080/"
        },
        "id": "XZLnvHmY1txA",
        "outputId": "a865252f-853c-4d6f-c53b-a0ad2e6026d3"
      },
      "outputs": [
        {
          "output_type": "stream",
          "name": "stdout",
          "text": [
            "The cost of the test dataset for given values of theta_0 and theta_1 = 15435717293691.42\n",
            "The cost of the validation dataset for given values of theta_0 and theta_1 = 3791276204046.038\n",
            "Final value of theta for test = [5277625.7326651085 720897.0294107418 101364.27219117577 583023.2775986538\n",
            " 439969.7267405759]\n",
            "Final value of theta for validation = [2722650.43432799 113295.4883809374 -31788.065005105975 -8767.150986341852\n",
            " 64028.15281133499]\n"
          ]
        }
      ],
      "source": [
        "cost_train_scaled = compute_cost(X_train_scaled, y_train, theta_scaled)\n",
        "print('The cost of the test dataset for given values of theta_0 and theta_1 =', cost_train_scaled)\n",
        "\n",
        "cost_valid_scaled = compute_cost(X_valid_scaled, y_valid, theta_scaled)\n",
        "print('The cost of the validation dataset for given values of theta_0 and theta_1 =', cost_valid_scaled)\n",
        "\n",
        "theta_scaled, cost_history_train_scaled = gradient_descent(X_train_scaled, y_train, theta_scaled, alpha, it)\n",
        "print('Final value of theta for test =', theta_scaled)\n",
        "\n",
        "theta_scaled, cost_history_valid_scaled = gradient_descent(X_valid_scaled, y_valid, theta_scaled, alpha, it)\n",
        "print('Final value of theta for validation =', theta_scaled)\n"
      ]
    },
    {
      "cell_type": "code",
      "execution_count": 53,
      "metadata": {
        "id": "hokUIh4m17Bi"
      },
      "outputs": [],
      "source": [
        "# plt.scatter(X_train_scaled[:,1], y_train, color='b', marker= '+', label= 'Training Data')\n",
        "# plt.plot(X_train_scaled[:,1],X_train_scaled.dot(theta_train_scaled), color='r', label='Linear Regression')\n",
        "# plt.rcParams[\"figure.figsize\"] = (10,6)\n",
        "# plt.xlabel('Input')\n",
        "# plt.ylabel('House Price($)')\n",
        "# plt.title(f'LR, X1, learning rate={alpha}, iteration={it}')\n",
        "# plt.legend()\n",
        "# plt.grid()"
      ]
    },
    {
      "cell_type": "code",
      "execution_count": 54,
      "metadata": {
        "id": "IV_gfhDf3-fb"
      },
      "outputs": [],
      "source": [
        "# plt.scatter(X_valid_scaled[:,1], y_valid, color='b', marker= '+', label= 'Training Data')\n",
        "# plt.plot(X_valid_scaled[:,1], X_valid_scaled.dot(theta_valid_scaled), color='r', label='Linear Regression')\n",
        "# plt.rcParams[\"figure.figsize\"] = (10,6)\n",
        "# plt.xlabel('Features')\n",
        "# plt.ylabel('House Price($)')\n",
        "# plt.title(f'LR, X1, learning rate={alpha}, iteration={it}')\n",
        "# plt.legend()\n",
        "# plt.grid()"
      ]
    },
    {
      "cell_type": "code",
      "execution_count": 55,
      "metadata": {
        "colab": {
          "base_uri": "https://localhost:8080/",
          "height": 619
        },
        "id": "5H8XpQQk4NkW",
        "outputId": "79eaece1-4670-4231-f89e-2dc4569397ea"
      },
      "outputs": [
        {
          "output_type": "stream",
          "name": "stderr",
          "text": [
            "WARNING:matplotlib.legend:No artists with labels found to put in legend.  Note that artists whose label start with an underscore are ignored when legend() is called with no argument.\n"
          ]
        },
        {
          "output_type": "execute_result",
          "data": {
            "text/plain": [
              "<matplotlib.legend.Legend at 0x7e35b30554b0>"
            ]
          },
          "metadata": {},
          "execution_count": 55
        },
        {
          "output_type": "display_data",
          "data": {
            "text/plain": [
              "<Figure size 1000x600 with 1 Axes>"
            ],
            "image/png": "[encoded data removed]"
          },
          "metadata": {}
        }
      ],
      "source": [
        "plt.plot(range(1, it + 1), cost_history_train_scaled)\n",
        "plt.plot(range(1, it + 1), cost_history_valid_scaled)\n",
        "\n",
        "plt.rcParams[\"figure.figsize\"] = (10,6)\n",
        "plt.grid(1)\n",
        "plt.xlabel('Number of iterations')\n",
        "plt.ylabel('Cost (J)')\n",
        "plt.title(f'Loss convergence for input={scaler}ization, learning rate={alpha}, iteration={it}')\n",
        "plt.legend()"
      ]
    },
    {
      "cell_type": "markdown",
      "metadata": {
        "id": "rVS8Y1ASRrQF"
      },
      "source": [
        "## Problem I B: Develop a gradient decent training and evaluation code, from scratch, that predicts housing price based on the following input variables\n",
        "\n",
        "## Area, bedrooms, bathrooms, stories, mainroad, guestroom, basement, hotwaterheating, airconditioning, parking, prefarea"
      ]
    },
    {
      "cell_type": "code",
      "execution_count": 129,
      "metadata": {
        "id": "0nI6k25eM6n_",
        "colab": {
          "base_uri": "https://localhost:8080/",
          "height": 443
        },
        "outputId": "3df8b9f7-1645-4bf2-adfa-71f878494f42"
      },
      "outputs": [
        {
          "output_type": "execute_result",
          "data": {
            "text/plain": [
              "        price  area  bedrooms  bathrooms  stories  parking furnishingstatus  \\\n",
              "0    13300000  7420         4          2        3        2        furnished   \n",
              "1    12250000  8960         4          4        4        3        furnished   \n",
              "2    12250000  9960         3          2        2        2   semi-furnished   \n",
              "3    12215000  7500         4          2        2        3        furnished   \n",
              "4    11410000  7420         4          1        2        2        furnished   \n",
              "..        ...   ...       ...        ...      ...      ...              ...   \n",
              "431   3290000  3180         4          1        2        0      unfurnished   \n",
              "432   3290000  6060         3          1        1        0        furnished   \n",
              "433   3290000  3480         4          1        2        1   semi-furnished   \n",
              "434   3290000  3792         4          1        2        0   semi-furnished   \n",
              "435   3290000  4040         2          1        1        0      unfurnished   \n",
              "\n",
              "     mainroad  guestroom  basement  hotwaterheating  airconditioning  prefarea  \n",
              "0           1          0         0                0                1         1  \n",
              "1           1          0         0                0                1         0  \n",
              "2           1          0         1                0                0         1  \n",
              "3           1          0         1                0                1         1  \n",
              "4           1          1         1                0                1         0  \n",
              "..        ...        ...       ...              ...              ...       ...  \n",
              "431         1          0         1                0                1         0  \n",
              "432         1          1         1                0                0         0  \n",
              "433         0          0         0                0                0         0  \n",
              "434         1          0         0                0                0         0  \n",
              "435         1          0         0                0                0         0  \n",
              "\n",
              "[436 rows x 13 columns]"
            ],
            "text/html": [
              "\n",
              "  <div id=\"df-8b2d0d49-fb73-4529-ac9d-82f6b1417378\" class=\"colab-df-container\">\n",
              "    <div>\n",
              "<style scoped>\n",
              "    .dataframe tbody tr th:only-of-type {\n",
              "        vertical-align: middle;\n",
              "    }\n",
              "\n",
              "    .dataframe tbody tr th {\n",
              "        vertical-align: top;\n",
              "    }\n",
              "\n",
              "    .dataframe thead th {\n",
              "        text-align: right;\n",
              "    }\n",
              "</style>\n",
              "<table border=\"1\" class=\"dataframe\">\n",
              "  <thead>\n",
              "    <tr style=\"text-align: right;\">\n",
              "      <th></th>\n",
              "      <th>price</th>\n",
              "      <th>area</th>\n",
              "      <th>bedrooms</th>\n",
              "      <th>bathrooms</th>\n",
              "      <th>stories</th>\n",
              "      <th>parking</th>\n",
              "      <th>furnishingstatus</th>\n",
              "      <th>mainroad</th>\n",
              "      <th>guestroom</th>\n",
              "      <th>basement</th>\n",
              "      <th>hotwaterheating</th>\n",
              "      <th>airconditioning</th>\n",
              "      <th>prefarea</th>\n",
              "    </tr>\n",
              "  </thead>\n",
              "  <tbody>\n",
              "    <tr>\n",
              "      <th>0</th>\n",
              "      <td>13300000</td>\n",
              "      <td>7420</td>\n",
              "      <td>4</td>\n",
              "      <td>2</td>\n",
              "      <td>3</td>\n",
              "      <td>2</td>\n",
              "      <td>furnished</td>\n",
              "      <td>1</td>\n",
              "      <td>0</td>\n",
              "      <td>0</td>\n",
              "      <td>0</td>\n",
              "      <td>1</td>\n",
              "      <td>1</td>\n",
              "    </tr>\n",
              "    <tr>\n",
              "      <th>1</th>\n",
              "      <td>12250000</td>\n",
              "      <td>8960</td>\n",
              "      <td>4</td>\n",
              "      <td>4</td>\n",
              "      <td>4</td>\n",
              "      <td>3</td>\n",
              "      <td>furnished</td>\n",
              "      <td>1</td>\n",
              "      <td>0</td>\n",
              "      <td>0</td>\n",
              "      <td>0</td>\n",
              "      <td>1</td>\n",
              "      <td>0</td>\n",
              "    </tr>\n",
              "    <tr>\n",
              "      <th>2</th>\n",
              "      <td>12250000</td>\n",
              "      <td>9960</td>\n",
              "      <td>3</td>\n",
              "      <td>2</td>\n",
              "      <td>2</td>\n",
              "      <td>2</td>\n",
              "      <td>semi-furnished</td>\n",
              "      <td>1</td>\n",
              "      <td>0</td>\n",
              "      <td>1</td>\n",
              "      <td>0</td>\n",
              "      <td>0</td>\n",
              "      <td>1</td>\n",
              "    </tr>\n",
              "    <tr>\n",
              "      <th>3</th>\n",
              "      <td>12215000</td>\n",
              "      <td>7500</td>\n",
              "      <td>4</td>\n",
              "      <td>2</td>\n",
              "      <td>2</td>\n",
              "      <td>3</td>\n",
              "      <td>furnished</td>\n",
              "      <td>1</td>\n",
              "      <td>0</td>\n",
              "      <td>1</td>\n",
              "      <td>0</td>\n",
              "      <td>1</td>\n",
              "      <td>1</td>\n",
              "    </tr>\n",
              "    <tr>\n",
              "      <th>4</th>\n",
              "      <td>11410000</td>\n",
              "      <td>7420</td>\n",
              "      <td>4</td>\n",
              "      <td>1</td>\n",
              "      <td>2</td>\n",
              "      <td>2</td>\n",
              "      <td>furnished</td>\n",
              "      <td>1</td>\n",
              "      <td>1</td>\n",
              "      <td>1</td>\n",
              "      <td>0</td>\n",
              "      <td>1</td>\n",
              "      <td>0</td>\n",
              "    </tr>\n",
              "    <tr>\n",
              "      <th>...</th>\n",
              "      <td>...</td>\n",
              "      <td>...</td>\n",
              "      <td>...</td>\n",
              "      <td>...</td>\n",
              "      <td>...</td>\n",
              "      <td>...</td>\n",
              "      <td>...</td>\n",
              "      <td>...</td>\n",
              "      <td>...</td>\n",
              "      <td>...</td>\n",
              "      <td>...</td>\n",
              "      <td>...</td>\n",
              "      <td>...</td>\n",
              "    </tr>\n",
              "    <tr>\n",
              "      <th>431</th>\n",
              "      <td>3290000</td>\n",
              "      <td>3180</td>\n",
              "      <td>4</td>\n",
              "      <td>1</td>\n",
              "      <td>2</td>\n",
              "      <td>0</td>\n",
              "      <td>unfurnished</td>\n",
              "      <td>1</td>\n",
              "      <td>0</td>\n",
              "      <td>1</td>\n",
              "      <td>0</td>\n",
              "      <td>1</td>\n",
              "      <td>0</td>\n",
              "    </tr>\n",
              "    <tr>\n",
              "      <th>432</th>\n",
              "      <td>3290000</td>\n",
              "      <td>6060</td>\n",
              "      <td>3</td>\n",
              "      <td>1</td>\n",
              "      <td>1</td>\n",
              "      <td>0</td>\n",
              "      <td>furnished</td>\n",
              "      <td>1</td>\n",
              "      <td>1</td>\n",
              "      <td>1</td>\n",
              "      <td>0</td>\n",
              "      <td>0</td>\n",
              "      <td>0</td>\n",
              "    </tr>\n",
              "    <tr>\n",
              "      <th>433</th>\n",
              "      <td>3290000</td>\n",
              "      <td>3480</td>\n",
              "      <td>4</td>\n",
              "      <td>1</td>\n",
              "      <td>2</td>\n",
              "      <td>1</td>\n",
              "      <td>semi-furnished</td>\n",
              "      <td>0</td>\n",
              "      <td>0</td>\n",
              "      <td>0</td>\n",
              "      <td>0</td>\n",
              "      <td>0</td>\n",
              "      <td>0</td>\n",
              "    </tr>\n",
              "    <tr>\n",
              "      <th>434</th>\n",
              "      <td>3290000</td>\n",
              "      <td>3792</td>\n",
              "      <td>4</td>\n",
              "      <td>1</td>\n",
              "      <td>2</td>\n",
              "      <td>0</td>\n",
              "      <td>semi-furnished</td>\n",
              "      <td>1</td>\n",
              "      <td>0</td>\n",
              "      <td>0</td>\n",
              "      <td>0</td>\n",
              "      <td>0</td>\n",
              "      <td>0</td>\n",
              "    </tr>\n",
              "    <tr>\n",
              "      <th>435</th>\n",
              "      <td>3290000</td>\n",
              "      <td>4040</td>\n",
              "      <td>2</td>\n",
              "      <td>1</td>\n",
              "      <td>1</td>\n",
              "      <td>0</td>\n",
              "      <td>unfurnished</td>\n",
              "      <td>1</td>\n",
              "      <td>0</td>\n",
              "      <td>0</td>\n",
              "      <td>0</td>\n",
              "      <td>0</td>\n",
              "      <td>0</td>\n",
              "    </tr>\n",
              "  </tbody>\n",
              "</table>\n",
              "<p>436 rows × 13 columns</p>\n",
              "</div>\n",
              "    <div class=\"colab-df-buttons\">\n",
              "\n",
              "  <div class=\"colab-df-container\">\n",
              "    <button class=\"colab-df-convert\" onclick=\"convertToInteractive('df-8b2d0d49-fb73-4529-ac9d-82f6b1417378')\"\n",
              "            title=\"Convert this dataframe to an interactive table.\"\n",
              "            style=\"display:none;\">\n",
              "\n",
              "  <svg xmlns=\"http://www.w3.org/2000/svg\" height=\"24px\" viewBox=\"0 -960 960 960\">\n",
              "    <path d=\"M120-120v-720h720v720H120Zm60-500h600v-160H180v160Zm220 220h160v-160H400v160Zm0 220h160v-160H400v160ZM180-400h160v-160H180v160Zm440 0h160v-160H620v160ZM180-180h160v-160H180v160Zm440 0h160v-160H620v160Z\"/>\n",
              "  </svg>\n",
              "    </button>\n",
              "\n",
              "  <style>\n",
              "    .colab-df-container {\n",
              "      display:flex;\n",
              "      gap: 12px;\n",
              "    }\n",
              "\n",
              "    .colab-df-convert {\n",
              "      background-color: #E8F0FE;\n",
              "      border: none;\n",
              "      border-radius: 50%;\n",
              "      cursor: pointer;\n",
              "      display: none;\n",
              "      fill: #1967D2;\n",
              "      height: 32px;\n",
              "      padding: 0 0 0 0;\n",
              "      width: 32px;\n",
              "    }\n",
              "\n",
              "    .colab-df-convert:hover {\n",
              "      background-color: #E2EBFA;\n",
              "      box-shadow: 0px 1px 2px rgba(60, 64, 67, 0.3), 0px 1px 3px 1px rgba(60, 64, 67, 0.15);\n",
              "      fill: #174EA6;\n",
              "    }\n",
              "\n",
              "    .colab-df-buttons div {\n",
              "      margin-bottom: 4px;\n",
              "    }\n",
              "\n",
              "    [theme=dark] .colab-df-convert {\n",
              "      background-color: #3B4455;\n",
              "      fill: #D2E3FC;\n",
              "    }\n",
              "\n",
              "    [theme=dark] .colab-df-convert:hover {\n",
              "      background-color: #434B5C;\n",
              "      box-shadow: 0px 1px 3px 1px rgba(0, 0, 0, 0.15);\n",
              "      filter: drop-shadow(0px 1px 2px rgba(0, 0, 0, 0.3));\n",
              "      fill: #FFFFFF;\n",
              "    }\n",
              "  </style>\n",
              "\n",
              "    <script>\n",
              "      const buttonEl =\n",
              "        document.querySelector('#df-8b2d0d49-fb73-4529-ac9d-82f6b1417378 button.colab-df-convert');\n",
              "      buttonEl.style.display =\n",
              "        google.colab.kernel.accessAllowed ? 'block' : 'none';\n",
              "\n",
              "      async function convertToInteractive(key) {\n",
              "        const element = document.querySelector('#df-8b2d0d49-fb73-4529-ac9d-82f6b1417378');\n",
              "        const dataTable =\n",
              "          await google.colab.kernel.invokeFunction('convertToInteractive',\n",
              "                                                    [key], {});\n",
              "        if (!dataTable) return;\n",
              "\n",
              "        const docLinkHtml = 'Like what you see? Visit the ' +\n",
              "          '<a target=\"_blank\" href=https://colab.research.google.com/notebooks/data_table.ipynb>data table notebook</a>'\n",
              "          + ' to learn more about interactive tables.';\n",
              "        element.innerHTML = '';\n",
              "        dataTable['output_type'] = 'display_data';\n",
              "        await google.colab.output.renderOutput(dataTable, element);\n",
              "        const docLink = document.createElement('div');\n",
              "        docLink.innerHTML = docLinkHtml;\n",
              "        element.appendChild(docLink);\n",
              "      }\n",
              "    </script>\n",
              "  </div>\n",
              "\n",
              "\n",
              "<div id=\"df-9ba3e8c8-d036-4f99-be3a-7095c8610866\">\n",
              "  <button class=\"colab-df-quickchart\" onclick=\"quickchart('df-9ba3e8c8-d036-4f99-be3a-7095c8610866')\"\n",
              "            title=\"Suggest charts\"\n",
              "            style=\"display:none;\">\n",
              "\n",
              "<svg xmlns=\"http://www.w3.org/2000/svg\" height=\"24px\"viewBox=\"0 0 24 24\"\n",
              "     width=\"24px\">\n",
              "    <g>\n",
              "        <path d=\"M19 3H5c-1.1 0-2 .9-2 2v14c0 1.1.9 2 2 2h14c1.1 0 2-.9 2-2V5c0-1.1-.9-2-2-2zM9 17H7v-7h2v7zm4 0h-2V7h2v10zm4 0h-2v-4h2v4z\"/>\n",
              "    </g>\n",
              "</svg>\n",
              "  </button>\n",
              "\n",
              "<style>\n",
              "  .colab-df-quickchart {\n",
              "      --bg-color: #E8F0FE;\n",
              "      --fill-color: #1967D2;\n",
              "      --hover-bg-color: #E2EBFA;\n",
              "      --hover-fill-color: #174EA6;\n",
              "      --disabled-fill-color: #AAA;\n",
              "      --disabled-bg-color: #DDD;\n",
              "  }\n",
              "\n",
              "  [theme=dark] .colab-df-quickchart {\n",
              "      --bg-color: #3B4455;\n",
              "      --fill-color: #D2E3FC;\n",
              "      --hover-bg-color: #434B5C;\n",
              "      --hover-fill-color: #FFFFFF;\n",
              "      --disabled-bg-color: #3B4455;\n",
              "      --disabled-fill-color: #666;\n",
              "  }\n",
              "\n",
              "  .colab-df-quickchart {\n",
              "    background-color: var(--bg-color);\n",
              "    border: none;\n",
              "    border-radius: 50%;\n",
              "    cursor: pointer;\n",
              "    display: none;\n",
              "    fill: var(--fill-color);\n",
              "    height: 32px;\n",
              "    padding: 0;\n",
              "    width: 32px;\n",
              "  }\n",
              "\n",
              "  .colab-df-quickchart:hover {\n",
              "    background-color: var(--hover-bg-color);\n",
              "    box-shadow: 0 1px 2px rgba(60, 64, 67, 0.3), 0 1px 3px 1px rgba(60, 64, 67, 0.15);\n",
              "    fill: var(--button-hover-fill-color);\n",
              "  }\n",
              "\n",
              "  .colab-df-quickchart-complete:disabled,\n",
              "  .colab-df-quickchart-complete:disabled:hover {\n",
              "    background-color: var(--disabled-bg-color);\n",
              "    fill: var(--disabled-fill-color);\n",
              "    box-shadow: none;\n",
              "  }\n",
              "\n",
              "  .colab-df-spinner {\n",
              "    border: 2px solid var(--fill-color);\n",
              "    border-color: transparent;\n",
              "    border-bottom-color: var(--fill-color);\n",
              "    animation:\n",
              "      spin 1s steps(1) infinite;\n",
              "  }\n",
              "\n",
              "  @keyframes spin {\n",
              "    0% {\n",
              "      border-color: transparent;\n",
              "      border-bottom-color: var(--fill-color);\n",
              "      border-left-color: var(--fill-color);\n",
              "    }\n",
              "    20% {\n",
              "      border-color: transparent;\n",
              "      border-left-color: var(--fill-color);\n",
              "      border-top-color: var(--fill-color);\n",
              "    }\n",
              "    30% {\n",
              "      border-color: transparent;\n",
              "      border-left-color: var(--fill-color);\n",
              "      border-top-color: var(--fill-color);\n",
              "      border-right-color: var(--fill-color);\n",
              "    }\n",
              "    40% {\n",
              "      border-color: transparent;\n",
              "      border-right-color: var(--fill-color);\n",
              "      border-top-color: var(--fill-color);\n",
              "    }\n",
              "    60% {\n",
              "      border-color: transparent;\n",
              "      border-right-color: var(--fill-color);\n",
              "    }\n",
              "    80% {\n",
              "      border-color: transparent;\n",
              "      border-right-color: var(--fill-color);\n",
              "      border-bottom-color: var(--fill-color);\n",
              "    }\n",
              "    90% {\n",
              "      border-color: transparent;\n",
              "      border-bottom-color: var(--fill-color);\n",
              "    }\n",
              "  }\n",
              "</style>\n",
              "\n",
              "  <script>\n",
              "    async function quickchart(key) {\n",
              "      const quickchartButtonEl =\n",
              "        document.querySelector('#' + key + ' button');\n",
              "      quickchartButtonEl.disabled = true;  // To prevent multiple clicks.\n",
              "      quickchartButtonEl.classList.add('colab-df-spinner');\n",
              "      try {\n",
              "        const charts = await google.colab.kernel.invokeFunction(\n",
              "            'suggestCharts', [key], {});\n",
              "      } catch (error) {\n",
              "        console.error('Error during call to suggestCharts:', error);\n",
              "      }\n",
              "      quickchartButtonEl.classList.remove('colab-df-spinner');\n",
              "      quickchartButtonEl.classList.add('colab-df-quickchart-complete');\n",
              "    }\n",
              "    (() => {\n",
              "      let quickchartButtonEl =\n",
              "        document.querySelector('#df-9ba3e8c8-d036-4f99-be3a-7095c8610866 button');\n",
              "      quickchartButtonEl.style.display =\n",
              "        google.colab.kernel.accessAllowed ? 'block' : 'none';\n",
              "    })();\n",
              "  </script>\n",
              "</div>\n",
              "\n",
              "  <div id=\"id_2bdfd789-5a2e-441c-b2fd-0e319a3df0b0\">\n",
              "    <style>\n",
              "      .colab-df-generate {\n",
              "        background-color: #E8F0FE;\n",
              "        border: none;\n",
              "        border-radius: 50%;\n",
              "        cursor: pointer;\n",
              "        display: none;\n",
              "        fill: #1967D2;\n",
              "        height: 32px;\n",
              "        padding: 0 0 0 0;\n",
              "        width: 32px;\n",
              "      }\n",
              "\n",
              "      .colab-df-generate:hover {\n",
              "        background-color: #E2EBFA;\n",
              "        box-shadow: 0px 1px 2px rgba(60, 64, 67, 0.3), 0px 1px 3px 1px rgba(60, 64, 67, 0.15);\n",
              "        fill: #174EA6;\n",
              "      }\n",
              "\n",
              "      [theme=dark] .colab-df-generate {\n",
              "        background-color: #3B4455;\n",
              "        fill: #D2E3FC;\n",
              "      }\n",
              "\n",
              "      [theme=dark] .colab-df-generate:hover {\n",
              "        background-color: #434B5C;\n",
              "        box-shadow: 0px 1px 3px 1px rgba(0, 0, 0, 0.15);\n",
              "        filter: drop-shadow(0px 1px 2px rgba(0, 0, 0, 0.3));\n",
              "        fill: #FFFFFF;\n",
              "      }\n",
              "    </style>\n",
              "    <button class=\"colab-df-generate\" onclick=\"generateWithVariable('df_train')\"\n",
              "            title=\"Generate code using this dataframe.\"\n",
              "            style=\"display:none;\">\n",
              "\n",
              "  <svg xmlns=\"http://www.w3.org/2000/svg\" height=\"24px\"viewBox=\"0 0 24 24\"\n",
              "       width=\"24px\">\n",
              "    <path d=\"M7,19H8.4L18.45,9,17,7.55,7,17.6ZM5,21V16.75L18.45,3.32a2,2,0,0,1,2.83,0l1.4,1.43a1.91,1.91,0,0,1,.58,1.4,1.91,1.91,0,0,1-.58,1.4L9.25,21ZM18.45,9,17,7.55Zm-12,3A5.31,5.31,0,0,0,4.9,8.1,5.31,5.31,0,0,0,1,6.5,5.31,5.31,0,0,0,4.9,4.9,5.31,5.31,0,0,0,6.5,1,5.31,5.31,0,0,0,8.1,4.9,5.31,5.31,0,0,0,12,6.5,5.46,5.46,0,0,0,6.5,12Z\"/>\n",
              "  </svg>\n",
              "    </button>\n",
              "    <script>\n",
              "      (() => {\n",
              "      const buttonEl =\n",
              "        document.querySelector('#id_2bdfd789-5a2e-441c-b2fd-0e319a3df0b0 button.colab-df-generate');\n",
              "      buttonEl.style.display =\n",
              "        google.colab.kernel.accessAllowed ? 'block' : 'none';\n",
              "\n",
              "      buttonEl.onclick = () => {\n",
              "        google.colab.notebook.generateWithVariable('df_train');\n",
              "      }\n",
              "      })();\n",
              "    </script>\n",
              "  </div>\n",
              "\n",
              "    </div>\n",
              "  </div>\n"
            ],
            "application/vnd.google.colaboratory.intrinsic+json": {
              "type": "dataframe",
              "variable_name": "df_train",
              "summary": "{\n  \"name\": \"df_train\",\n  \"rows\": 436,\n  \"fields\": [\n    {\n      \"column\": \"price\",\n      \"properties\": {\n        \"dtype\": \"number\",\n        \"std\": 1738899,\n        \"min\": 3290000,\n        \"max\": 13300000,\n        \"num_unique_values\": 175,\n        \"samples\": [\n          3710000,\n          4025000,\n          5040000\n        ],\n        \"semantic_type\": \"\",\n        \"description\": \"\"\n      }\n    },\n    {\n      \"column\": \"area\",\n      \"properties\": {\n        \"dtype\": \"number\",\n        \"std\": 2207,\n        \"min\": 1905,\n        \"max\": 16200,\n        \"num_unique_values\": 251,\n        \"samples\": [\n          2550,\n          8100,\n          3162\n        ],\n        \"semantic_type\": \"\",\n        \"description\": \"\"\n      }\n    },\n    {\n      \"column\": \"bedrooms\",\n      \"properties\": {\n        \"dtype\": \"number\",\n        \"std\": 0,\n        \"min\": 2,\n        \"max\": 6,\n        \"num_unique_values\": 5,\n        \"samples\": [\n          3,\n          6,\n          5\n        ],\n        \"semantic_type\": \"\",\n        \"description\": \"\"\n      }\n    },\n    {\n      \"column\": \"bathrooms\",\n      \"properties\": {\n        \"dtype\": \"number\",\n        \"std\": 0,\n        \"min\": 1,\n        \"max\": 4,\n        \"num_unique_values\": 4,\n        \"samples\": [\n          4,\n          3,\n          2\n        ],\n        \"semantic_type\": \"\",\n        \"description\": \"\"\n      }\n    },\n    {\n      \"column\": \"stories\",\n      \"properties\": {\n        \"dtype\": \"number\",\n        \"std\": 0,\n        \"min\": 1,\n        \"max\": 4,\n        \"num_unique_values\": 4,\n        \"samples\": [\n          4,\n          1,\n          3\n        ],\n        \"semantic_type\": \"\",\n        \"description\": \"\"\n      }\n    },\n    {\n      \"column\": \"parking\",\n      \"properties\": {\n        \"dtype\": \"number\",\n        \"std\": 0,\n        \"min\": 0,\n        \"max\": 3,\n        \"num_unique_values\": 4,\n        \"samples\": [\n          3,\n          1,\n          2\n        ],\n        \"semantic_type\": \"\",\n        \"description\": \"\"\n      }\n    },\n    {\n      \"column\": \"furnishingstatus\",\n      \"properties\": {\n        \"dtype\": \"category\",\n        \"num_unique_values\": 3,\n        \"samples\": [\n          \"furnished\",\n          \"semi-furnished\",\n          \"unfurnished\"\n        ],\n        \"semantic_type\": \"\",\n        \"description\": \"\"\n      }\n    },\n    {\n      \"column\": \"mainroad\",\n      \"properties\": {\n        \"dtype\": \"number\",\n        \"std\": 0,\n        \"min\": 0,\n        \"max\": 1,\n        \"num_unique_values\": 2,\n        \"samples\": [\n          0,\n          1\n        ],\n        \"semantic_type\": \"\",\n        \"description\": \"\"\n      }\n    },\n    {\n      \"column\": \"guestroom\",\n      \"properties\": {\n        \"dtype\": \"number\",\n        \"std\": 0,\n        \"min\": 0,\n        \"max\": 1,\n        \"num_unique_values\": 2,\n        \"samples\": [\n          1,\n          0\n        ],\n        \"semantic_type\": \"\",\n        \"description\": \"\"\n      }\n    },\n    {\n      \"column\": \"basement\",\n      \"properties\": {\n        \"dtype\": \"number\",\n        \"std\": 0,\n        \"min\": 0,\n        \"max\": 1,\n        \"num_unique_values\": 2,\n        \"samples\": [\n          1,\n          0\n        ],\n        \"semantic_type\": \"\",\n        \"description\": \"\"\n      }\n    },\n    {\n      \"column\": \"hotwaterheating\",\n      \"properties\": {\n        \"dtype\": \"number\",\n        \"std\": 0,\n        \"min\": 0,\n        \"max\": 1,\n        \"num_unique_values\": 2,\n        \"samples\": [\n          1,\n          0\n        ],\n        \"semantic_type\": \"\",\n        \"description\": \"\"\n      }\n    },\n    {\n      \"column\": \"airconditioning\",\n      \"properties\": {\n        \"dtype\": \"number\",\n        \"std\": 0,\n        \"min\": 0,\n        \"max\": 1,\n        \"num_unique_values\": 2,\n        \"samples\": [\n          0,\n          1\n        ],\n        \"semantic_type\": \"\",\n        \"description\": \"\"\n      }\n    },\n    {\n      \"column\": \"prefarea\",\n      \"properties\": {\n        \"dtype\": \"number\",\n        \"std\": 0,\n        \"min\": 0,\n        \"max\": 1,\n        \"num_unique_values\": 2,\n        \"samples\": [\n          0,\n          1\n        ],\n        \"semantic_type\": \"\",\n        \"description\": \"\"\n      }\n    }\n  ]\n}"
            }
          },
          "metadata": {},
          "execution_count": 129
        }
      ],
      "source": [
        "df_test = df.iloc[0:a,:]\n",
        "df_valid = df.iloc[a:,:]\n",
        "\n",
        "y_test = df_test.values[:, 0]\n",
        "y_valid = df_valid.values[:, 0]\n",
        "\n",
        "df_test1 = (df_test.iloc[:,[5,6,7,8,9,11]] == \"yes\").replace(True,1).replace(False,0)\n",
        "df_test = pd.concat([df_test.iloc[:,[0,1,2,3,4,10,12]], df_test1], axis = 1)\n",
        "df_valid1 = (df_valid.iloc[:,[5,6,7,8,9,11]] == \"yes\").replace(True,1).replace(False,0)\n",
        "df_valid = pd.concat([df_valid.iloc[:,[0,1,2,3,4,10,12]], df_valid1], axis = 1)\n",
        "\n",
        "\n",
        "# df_test.iloc[:,[0,1,2,3,4,5,7,8,9,10,11,12]]\n",
        "# df_valid.iloc[:,[0,1,2,3,4,10]]\n",
        "# df_test\n",
        "df_train"
      ]
    },
    {
      "cell_type": "code",
      "execution_count": 130,
      "metadata": {
        "id": "kiZnI9Q3M-O_"
      },
      "outputs": [],
      "source": [
        "X1_train = df_train.values[:, 1]\n",
        "X2_train = df_train.values[:, 2]\n",
        "X3_train = df_train.values[:, 3]\n",
        "X4_train = df_train.values[:, 4]\n",
        "X5_train = df_train.values[:, 5]\n",
        "X6_train = df_train.values[:, 7]\n",
        "X7_train = df_train.values[:, 8]\n",
        "X8_train = df_train.values[:, 9]\n",
        "X9_train = df_train.values[:, 10]\n",
        "X10_train = df_train.values[:, 11]\n",
        "X11_train = df_train.values[:, 12]\n",
        "\n",
        "\n",
        "X1_valid = df_valid.values[:, 1]\n",
        "X2_valid = df_valid.values[:, 2]\n",
        "X3_valid = df_valid.values[:, 3]\n",
        "X4_valid = df_valid.values[:, 4]\n",
        "X5_valid = df_valid.values[:, 5]\n",
        "X6_valid = df_valid.values[:, 7]\n",
        "X7_valid = df_valid.values[:, 8]\n",
        "X8_valid = df_valid.values[:, 9]\n",
        "X9_valid = df_valid.values[:, 10]\n",
        "X10_valid = df_valid.values[:, 11]\n",
        "X11_valid = df_valid.values[:, 12]\n",
        "\n",
        "m_train = len(y_train)\n",
        "m_valid = len(y_valid)\n",
        "n_train = len(X1_train)\n",
        "n_valid = len(X1_valid)\n",
        "\n",
        "\n",
        "X_0_train = np.ones((m_train, 1))\n",
        "X_1_train = X1_train.reshape(m_train, 1)\n",
        "X_2_train = X2_train.reshape(m_train, 1)\n",
        "X_3_train = X3_train.reshape(m_train, 1)\n",
        "X_4_train = X4_train.reshape(m_train, 1)\n",
        "X_5_train = X5_train.reshape(m_train, 1)\n",
        "X_6_train = X6_train.reshape(m_train, 1)\n",
        "X_7_train = X7_train.reshape(m_train, 1)\n",
        "X_8_train = X8_train.reshape(m_train, 1)\n",
        "X_9_train = X9_train.reshape(m_train, 1)\n",
        "X_10_train = X10_train.reshape(m_train, 1)\n",
        "X_11_train = X11_train.reshape(m_train, 1)\n",
        "\n",
        "\n",
        "X_0_valid = np.ones((m_valid, 1))\n",
        "X_1_valid = X1_valid.reshape(m_valid, 1)\n",
        "X_2_valid = X2_valid.reshape(m_valid, 1)\n",
        "X_3_valid = X3_valid.reshape(m_valid, 1)\n",
        "X_4_valid = X4_valid.reshape(m_valid, 1)\n",
        "X_5_valid = X5_valid.reshape(m_valid, 1)\n",
        "X_6_valid = X6_valid.reshape(m_valid, 1)\n",
        "X_7_valid = X7_valid.reshape(m_valid, 1)\n",
        "X_8_valid = X8_valid.reshape(m_valid, 1)\n",
        "X_9_valid = X9_valid.reshape(m_valid, 1)\n",
        "X_10_valid = X10_valid.reshape(m_valid, 1)\n",
        "X_11_valid = X11_valid.reshape(m_valid, 1)\n",
        "\n",
        "X_train = np.hstack((X_0_train, X_1_train, X_2_train, X_3_train, X_4_train, X_5_train, X_6_train, X_7_train, X_8_train, X_9_train, X_10_train, X_11_train))\n",
        "X_valid = np.hstack((X_0_valid, X_1_valid, X_2_valid, X_3_valid, X_4_valid, X_5_valid, X_6_valid, X_7_valid, X_8_valid, X_9_valid, X_10_valid, X_11_valid))\n"
      ]
    },
    {
      "cell_type": "code",
      "execution_count": 59,
      "metadata": {
        "colab": {
          "base_uri": "https://localhost:8080/"
        },
        "id": "kkJ-FuwGbV6u",
        "outputId": "fd21c147-0e55-4e6a-df0d-c0ff14155b6c"
      },
      "outputs": [
        {
          "output_type": "stream",
          "name": "stdout",
          "text": [
            " Maximum iterations: 500\n",
            "Learning rate is: 0.01\n",
            "θ is: [3, 1, 5, 100, 3.4, 4.5, 8.9, 0.2, 13, 98, 34, 35.7]\n"
          ]
        }
      ],
      "source": [
        "it = 500 # Maximum iterations\n",
        "# alpha = 0.000000001 # Learning Rate\n",
        "alpha = 0.01 # Learning Rate\n",
        "\n",
        "# theta = np.zeros(5)\n",
        "# theta = [1,1,1,1,1]\n",
        "theta = [3,1,5,100,3.4,4.5,8.9,0.2,13,98,34,35.7]\n",
        "\n",
        "print(f' Maximum iterations: {it}')\n",
        "print(f'Learning rate is: {alpha}')\n",
        "print(f'θ is: {theta}')"
      ]
    },
    {
      "cell_type": "code",
      "execution_count": 60,
      "metadata": {
        "colab": {
          "base_uri": "https://localhost:8080/"
        },
        "id": "qGYgjqwxNDt-",
        "outputId": "e2a33660-02b8-45af-e503-3c013cbec2b4"
      },
      "outputs": [
        {
          "output_type": "stream",
          "name": "stdout",
          "text": [
            "The cost of the test dataset for given values of theta_0 and theta_1 = 15403913239182.014\n",
            "The cost of the validation dataset for given values of theta_0 and theta_1 = 3780400326920.4663\n"
          ]
        },
        {
          "output_type": "stream",
          "name": "stderr",
          "text": [
            "<ipython-input-40-26b51ea36a5e>:5: RuntimeWarning: overflow encountered in square\n",
            "  sqrErrors = np.square(errors)\n"
          ]
        },
        {
          "output_type": "stream",
          "name": "stdout",
          "text": [
            "Final value of theta for test = [nan nan nan nan nan nan nan nan nan nan nan nan]\n",
            "Final value of theta for validation = [nan nan nan nan nan nan nan nan nan nan nan nan]\n"
          ]
        }
      ],
      "source": [
        "cost_test = compute_cost(X_train, y_test, theta)\n",
        "print('The cost of the test dataset for given values of theta_0 and theta_1 =', cost_test)\n",
        "\n",
        "cost_valid = compute_cost(X_valid, y_valid, theta)\n",
        "print('The cost of the validation dataset for given values of theta_0 and theta_1 =', cost_valid)\n",
        "\n",
        "theta, cost_history_train = gradient_descent(X_train, y_test, theta, alpha, it)\n",
        "print('Final value of theta for test =', theta)\n",
        "\n",
        "theta, cost_history_valid = gradient_descent(X_valid, y_valid, theta, alpha, it)\n",
        "print('Final value of theta for validation =', theta)"
      ]
    },
    {
      "cell_type": "code",
      "execution_count": 61,
      "metadata": {
        "id": "lH3iUacMNG2v"
      },
      "outputs": [],
      "source": [
        "# plt.scatter(X_train[:,1], y_train, color='b', marker= '+', label= 'Training Data')\n",
        "# plt.plot(X_train[:,1],X_train.dot(theta), color='r', label='Linear Regression')\n",
        "# plt.rcParams[\"figure.figsize\"] = (10,6)\n",
        "# plt.xlabel('Y')\n",
        "# plt.title(f'LR, X1, learning rate={alpha}, iteration={it}')\n",
        "# plt.legend()\n",
        "# plt.grid()"
      ]
    },
    {
      "cell_type": "code",
      "execution_count": 62,
      "metadata": {
        "id": "CZ8l6NepNJtn"
      },
      "outputs": [],
      "source": [
        "# plt.scatter(X_valid[:,1], y_valid, color='b', marker= '+', label= 'Training Data')\n",
        "# plt.plot(X_valid[:,1], X_valid.dot(theta), color='r', label='Linear Regression')\n",
        "# plt.rcParams[\"figure.figsize\"] = (10,6)\n",
        "# plt.xlabel('Y')\n",
        "# plt.title(f'LR, X1, learning rate={alpha}, iteration={it}')\n",
        "# plt.legend()\n",
        "# plt.grid()"
      ]
    },
    {
      "cell_type": "code",
      "execution_count": 63,
      "metadata": {
        "colab": {
          "base_uri": "https://localhost:8080/",
          "height": 619
        },
        "id": "jBvCdcYVNMvv",
        "outputId": "ee744b07-52c4-4244-f184-7f94a21f75ad"
      },
      "outputs": [
        {
          "output_type": "stream",
          "name": "stderr",
          "text": [
            "WARNING:matplotlib.legend:No artists with labels found to put in legend.  Note that artists whose label start with an underscore are ignored when legend() is called with no argument.\n"
          ]
        },
        {
          "output_type": "execute_result",
          "data": {
            "text/plain": [
              "<matplotlib.legend.Legend at 0x7e35b2f4fbb0>"
            ]
          },
          "metadata": {},
          "execution_count": 63
        },
        {
          "output_type": "display_data",
          "data": {
            "text/plain": [
              "<Figure size 1000x600 with 1 Axes>"
            ],
            "image/png": "[encoded data removed]"
          },
          "metadata": {}
        }
      ],
      "source": [
        "plt.plot(range(1, it + 1), cost_history_train)\n",
        "plt.plot(range(1, it + 1), cost_history_valid)\n",
        "\n",
        "plt.rcParams[\"figure.figsize\"] = (10,6)\n",
        "plt.grid(1)\n",
        "plt.xlabel('Number of iterations')\n",
        "plt.ylabel('Cost (J)')\n",
        "plt.title(f'Convergence, learning rate={alpha}, iteration={it}')\n",
        "plt.legend()"
      ]
    },
    {
      "cell_type": "markdown",
      "metadata": {
        "id": "GEslCe_2SQfE"
      },
      "source": [
        "## Problem II B"
      ]
    },
    {
      "cell_type": "markdown",
      "metadata": {
        "id": "7l0IXTi9SwSa"
      },
      "source": [
        "## Repeat problem 1 b, this time with input normalization and input standardization as part of your pre-processing logic. You need to perform two separate trainings for standardization and normalization. In both cases, you do not need to normalize the output!\n",
        "\n",
        "### Plot the training and validation losses for both training and validation sets based on input standardization and input normalization. Compare your training accuracy between both scaling approaches and the baseline training in problem 1 b. Which input scaling achieves the best training? Explain your results"
      ]
    },
    {
      "cell_type": "code",
      "execution_count": 142,
      "metadata": {
        "colab": {
          "base_uri": "https://localhost:8080/",
          "height": 423
        },
        "id": "k2Zp9fJFPF58",
        "outputId": "33ae8954-6878-4d69-e3dc-6e7c80676d75"
      },
      "outputs": [
        {
          "output_type": "execute_result",
          "data": {
            "text/plain": [
              "           0     1         2         3         4    5    6    7    8    9   \\\n",
              "0    0.385799  0.50  0.333333  0.666667  0.666667  1.0  0.0  0.0  0.0  1.0   \n",
              "1    0.493529  0.50  1.000000  1.000000  1.000000  1.0  0.0  0.0  0.0  1.0   \n",
              "2    0.563484  0.25  0.333333  0.333333  0.666667  1.0  0.0  1.0  0.0  0.0   \n",
              "3    0.391396  0.50  0.333333  0.333333  1.000000  1.0  0.0  1.0  0.0  1.0   \n",
              "4    0.385799  0.50  0.000000  0.333333  0.666667  1.0  1.0  1.0  0.0  1.0   \n",
              "..        ...   ...       ...       ...       ...  ...  ...  ...  ...  ...   \n",
              "431  0.089192  0.50  0.000000  0.333333  0.000000  1.0  0.0  1.0  0.0  1.0   \n",
              "432  0.290661  0.25  0.000000  0.000000  0.000000  1.0  1.0  1.0  0.0  0.0   \n",
              "433  0.110178  0.50  0.000000  0.333333  0.333333  0.0  0.0  0.0  0.0  0.0   \n",
              "434  0.132004  0.50  0.000000  0.333333  0.000000  1.0  0.0  0.0  0.0  0.0   \n",
              "435  0.149353  0.00  0.000000  0.000000  0.000000  1.0  0.0  0.0  0.0  0.0   \n",
              "\n",
              "      10  \n",
              "0    1.0  \n",
              "1    0.0  \n",
              "2    1.0  \n",
              "3    1.0  \n",
              "4    0.0  \n",
              "..   ...  \n",
              "431  0.0  \n",
              "432  0.0  \n",
              "433  0.0  \n",
              "434  0.0  \n",
              "435  0.0  \n",
              "\n",
              "[436 rows x 11 columns]"
            ],
            "text/html": [
              "\n",
              "  <div id=\"df-9855d3ec-9bb7-4f58-9936-d80cb90ea9e4\" class=\"colab-df-container\">\n",
              "    <div>\n",
              "<style scoped>\n",
              "    .dataframe tbody tr th:only-of-type {\n",
              "        vertical-align: middle;\n",
              "    }\n",
              "\n",
              "    .dataframe tbody tr th {\n",
              "        vertical-align: top;\n",
              "    }\n",
              "\n",
              "    .dataframe thead th {\n",
              "        text-align: right;\n",
              "    }\n",
              "</style>\n",
              "<table border=\"1\" class=\"dataframe\">\n",
              "  <thead>\n",
              "    <tr style=\"text-align: right;\">\n",
              "      <th></th>\n",
              "      <th>0</th>\n",
              "      <th>1</th>\n",
              "      <th>2</th>\n",
              "      <th>3</th>\n",
              "      <th>4</th>\n",
              "      <th>5</th>\n",
              "      <th>6</th>\n",
              "      <th>7</th>\n",
              "      <th>8</th>\n",
              "      <th>9</th>\n",
              "      <th>10</th>\n",
              "    </tr>\n",
              "  </thead>\n",
              "  <tbody>\n",
              "    <tr>\n",
              "      <th>0</th>\n",
              "      <td>0.385799</td>\n",
              "      <td>0.50</td>\n",
              "      <td>0.333333</td>\n",
              "      <td>0.666667</td>\n",
              "      <td>0.666667</td>\n",
              "      <td>1.0</td>\n",
              "      <td>0.0</td>\n",
              "      <td>0.0</td>\n",
              "      <td>0.0</td>\n",
              "      <td>1.0</td>\n",
              "      <td>1.0</td>\n",
              "    </tr>\n",
              "    <tr>\n",
              "      <th>1</th>\n",
              "      <td>0.493529</td>\n",
              "      <td>0.50</td>\n",
              "      <td>1.000000</td>\n",
              "      <td>1.000000</td>\n",
              "      <td>1.000000</td>\n",
              "      <td>1.0</td>\n",
              "      <td>0.0</td>\n",
              "      <td>0.0</td>\n",
              "      <td>0.0</td>\n",
              "      <td>1.0</td>\n",
              "      <td>0.0</td>\n",
              "    </tr>\n",
              "    <tr>\n",
              "      <th>2</th>\n",
              "      <td>0.563484</td>\n",
              "      <td>0.25</td>\n",
              "      <td>0.333333</td>\n",
              "      <td>0.333333</td>\n",
              "      <td>0.666667</td>\n",
              "      <td>1.0</td>\n",
              "      <td>0.0</td>\n",
              "      <td>1.0</td>\n",
              "      <td>0.0</td>\n",
              "      <td>0.0</td>\n",
              "      <td>1.0</td>\n",
              "    </tr>\n",
              "    <tr>\n",
              "      <th>3</th>\n",
              "      <td>0.391396</td>\n",
              "      <td>0.50</td>\n",
              "      <td>0.333333</td>\n",
              "      <td>0.333333</td>\n",
              "      <td>1.000000</td>\n",
              "      <td>1.0</td>\n",
              "      <td>0.0</td>\n",
              "      <td>1.0</td>\n",
              "      <td>0.0</td>\n",
              "      <td>1.0</td>\n",
              "      <td>1.0</td>\n",
              "    </tr>\n",
              "    <tr>\n",
              "      <th>4</th>\n",
              "      <td>0.385799</td>\n",
              "      <td>0.50</td>\n",
              "      <td>0.000000</td>\n",
              "      <td>0.333333</td>\n",
              "      <td>0.666667</td>\n",
              "      <td>1.0</td>\n",
              "      <td>1.0</td>\n",
              "      <td>1.0</td>\n",
              "      <td>0.0</td>\n",
              "      <td>1.0</td>\n",
              "      <td>0.0</td>\n",
              "    </tr>\n",
              "    <tr>\n",
              "      <th>...</th>\n",
              "      <td>...</td>\n",
              "      <td>...</td>\n",
              "      <td>...</td>\n",
              "      <td>...</td>\n",
              "      <td>...</td>\n",
              "      <td>...</td>\n",
              "      <td>...</td>\n",
              "      <td>...</td>\n",
              "      <td>...</td>\n",
              "      <td>...</td>\n",
              "      <td>...</td>\n",
              "    </tr>\n",
              "    <tr>\n",
              "      <th>431</th>\n",
              "      <td>0.089192</td>\n",
              "      <td>0.50</td>\n",
              "      <td>0.000000</td>\n",
              "      <td>0.333333</td>\n",
              "      <td>0.000000</td>\n",
              "      <td>1.0</td>\n",
              "      <td>0.0</td>\n",
              "      <td>1.0</td>\n",
              "      <td>0.0</td>\n",
              "      <td>1.0</td>\n",
              "      <td>0.0</td>\n",
              "    </tr>\n",
              "    <tr>\n",
              "      <th>432</th>\n",
              "      <td>0.290661</td>\n",
              "      <td>0.25</td>\n",
              "      <td>0.000000</td>\n",
              "      <td>0.000000</td>\n",
              "      <td>0.000000</td>\n",
              "      <td>1.0</td>\n",
              "      <td>1.0</td>\n",
              "      <td>1.0</td>\n",
              "      <td>0.0</td>\n",
              "      <td>0.0</td>\n",
              "      <td>0.0</td>\n",
              "    </tr>\n",
              "    <tr>\n",
              "      <th>433</th>\n",
              "      <td>0.110178</td>\n",
              "      <td>0.50</td>\n",
              "      <td>0.000000</td>\n",
              "      <td>0.333333</td>\n",
              "      <td>0.333333</td>\n",
              "      <td>0.0</td>\n",
              "      <td>0.0</td>\n",
              "      <td>0.0</td>\n",
              "      <td>0.0</td>\n",
              "      <td>0.0</td>\n",
              "      <td>0.0</td>\n",
              "    </tr>\n",
              "    <tr>\n",
              "      <th>434</th>\n",
              "      <td>0.132004</td>\n",
              "      <td>0.50</td>\n",
              "      <td>0.000000</td>\n",
              "      <td>0.333333</td>\n",
              "      <td>0.000000</td>\n",
              "      <td>1.0</td>\n",
              "      <td>0.0</td>\n",
              "      <td>0.0</td>\n",
              "      <td>0.0</td>\n",
              "      <td>0.0</td>\n",
              "      <td>0.0</td>\n",
              "    </tr>\n",
              "    <tr>\n",
              "      <th>435</th>\n",
              "      <td>0.149353</td>\n",
              "      <td>0.00</td>\n",
              "      <td>0.000000</td>\n",
              "      <td>0.000000</td>\n",
              "      <td>0.000000</td>\n",
              "      <td>1.0</td>\n",
              "      <td>0.0</td>\n",
              "      <td>0.0</td>\n",
              "      <td>0.0</td>\n",
              "      <td>0.0</td>\n",
              "      <td>0.0</td>\n",
              "    </tr>\n",
              "  </tbody>\n",
              "</table>\n",
              "<p>436 rows × 11 columns</p>\n",
              "</div>\n",
              "    <div class=\"colab-df-buttons\">\n",
              "\n",
              "  <div class=\"colab-df-container\">\n",
              "    <button class=\"colab-df-convert\" onclick=\"convertToInteractive('df-9855d3ec-9bb7-4f58-9936-d80cb90ea9e4')\"\n",
              "            title=\"Convert this dataframe to an interactive table.\"\n",
              "            style=\"display:none;\">\n",
              "\n",
              "  <svg xmlns=\"http://www.w3.org/2000/svg\" height=\"24px\" viewBox=\"0 -960 960 960\">\n",
              "    <path d=\"M120-120v-720h720v720H120Zm60-500h600v-160H180v160Zm220 220h160v-160H400v160Zm0 220h160v-160H400v160ZM180-400h160v-160H180v160Zm440 0h160v-160H620v160ZM180-180h160v-160H180v160Zm440 0h160v-160H620v160Z\"/>\n",
              "  </svg>\n",
              "    </button>\n",
              "\n",
              "  <style>\n",
              "    .colab-df-container {\n",
              "      display:flex;\n",
              "      gap: 12px;\n",
              "    }\n",
              "\n",
              "    .colab-df-convert {\n",
              "      background-color: #E8F0FE;\n",
              "      border: none;\n",
              "      border-radius: 50%;\n",
              "      cursor: pointer;\n",
              "      display: none;\n",
              "      fill: #1967D2;\n",
              "      height: 32px;\n",
              "      padding: 0 0 0 0;\n",
              "      width: 32px;\n",
              "    }\n",
              "\n",
              "    .colab-df-convert:hover {\n",
              "      background-color: #E2EBFA;\n",
              "      box-shadow: 0px 1px 2px rgba(60, 64, 67, 0.3), 0px 1px 3px 1px rgba(60, 64, 67, 0.15);\n",
              "      fill: #174EA6;\n",
              "    }\n",
              "\n",
              "    .colab-df-buttons div {\n",
              "      margin-bottom: 4px;\n",
              "    }\n",
              "\n",
              "    [theme=dark] .colab-df-convert {\n",
              "      background-color: #3B4455;\n",
              "      fill: #D2E3FC;\n",
              "    }\n",
              "\n",
              "    [theme=dark] .colab-df-convert:hover {\n",
              "      background-color: #434B5C;\n",
              "      box-shadow: 0px 1px 3px 1px rgba(0, 0, 0, 0.15);\n",
              "      filter: drop-shadow(0px 1px 2px rgba(0, 0, 0, 0.3));\n",
              "      fill: #FFFFFF;\n",
              "    }\n",
              "  </style>\n",
              "\n",
              "    <script>\n",
              "      const buttonEl =\n",
              "        document.querySelector('#df-9855d3ec-9bb7-4f58-9936-d80cb90ea9e4 button.colab-df-convert');\n",
              "      buttonEl.style.display =\n",
              "        google.colab.kernel.accessAllowed ? 'block' : 'none';\n",
              "\n",
              "      async function convertToInteractive(key) {\n",
              "        const element = document.querySelector('#df-9855d3ec-9bb7-4f58-9936-d80cb90ea9e4');\n",
              "        const dataTable =\n",
              "          await google.colab.kernel.invokeFunction('convertToInteractive',\n",
              "                                                    [key], {});\n",
              "        if (!dataTable) return;\n",
              "\n",
              "        const docLinkHtml = 'Like what you see? Visit the ' +\n",
              "          '<a target=\"_blank\" href=https://colab.research.google.com/notebooks/data_table.ipynb>data table notebook</a>'\n",
              "          + ' to learn more about interactive tables.';\n",
              "        element.innerHTML = '';\n",
              "        dataTable['output_type'] = 'display_data';\n",
              "        await google.colab.output.renderOutput(dataTable, element);\n",
              "        const docLink = document.createElement('div');\n",
              "        docLink.innerHTML = docLinkHtml;\n",
              "        element.appendChild(docLink);\n",
              "      }\n",
              "    </script>\n",
              "  </div>\n",
              "\n",
              "\n",
              "<div id=\"df-1bc7d61e-4e92-4b82-9cc5-ba693775180d\">\n",
              "  <button class=\"colab-df-quickchart\" onclick=\"quickchart('df-1bc7d61e-4e92-4b82-9cc5-ba693775180d')\"\n",
              "            title=\"Suggest charts\"\n",
              "            style=\"display:none;\">\n",
              "\n",
              "<svg xmlns=\"http://www.w3.org/2000/svg\" height=\"24px\"viewBox=\"0 0 24 24\"\n",
              "     width=\"24px\">\n",
              "    <g>\n",
              "        <path d=\"M19 3H5c-1.1 0-2 .9-2 2v14c0 1.1.9 2 2 2h14c1.1 0 2-.9 2-2V5c0-1.1-.9-2-2-2zM9 17H7v-7h2v7zm4 0h-2V7h2v10zm4 0h-2v-4h2v4z\"/>\n",
              "    </g>\n",
              "</svg>\n",
              "  </button>\n",
              "\n",
              "<style>\n",
              "  .colab-df-quickchart {\n",
              "      --bg-color: #E8F0FE;\n",
              "      --fill-color: #1967D2;\n",
              "      --hover-bg-color: #E2EBFA;\n",
              "      --hover-fill-color: #174EA6;\n",
              "      --disabled-fill-color: #AAA;\n",
              "      --disabled-bg-color: #DDD;\n",
              "  }\n",
              "\n",
              "  [theme=dark] .colab-df-quickchart {\n",
              "      --bg-color: #3B4455;\n",
              "      --fill-color: #D2E3FC;\n",
              "      --hover-bg-color: #434B5C;\n",
              "      --hover-fill-color: #FFFFFF;\n",
              "      --disabled-bg-color: #3B4455;\n",
              "      --disabled-fill-color: #666;\n",
              "  }\n",
              "\n",
              "  .colab-df-quickchart {\n",
              "    background-color: var(--bg-color);\n",
              "    border: none;\n",
              "    border-radius: 50%;\n",
              "    cursor: pointer;\n",
              "    display: none;\n",
              "    fill: var(--fill-color);\n",
              "    height: 32px;\n",
              "    padding: 0;\n",
              "    width: 32px;\n",
              "  }\n",
              "\n",
              "  .colab-df-quickchart:hover {\n",
              "    background-color: var(--hover-bg-color);\n",
              "    box-shadow: 0 1px 2px rgba(60, 64, 67, 0.3), 0 1px 3px 1px rgba(60, 64, 67, 0.15);\n",
              "    fill: var(--button-hover-fill-color);\n",
              "  }\n",
              "\n",
              "  .colab-df-quickchart-complete:disabled,\n",
              "  .colab-df-quickchart-complete:disabled:hover {\n",
              "    background-color: var(--disabled-bg-color);\n",
              "    fill: var(--disabled-fill-color);\n",
              "    box-shadow: none;\n",
              "  }\n",
              "\n",
              "  .colab-df-spinner {\n",
              "    border: 2px solid var(--fill-color);\n",
              "    border-color: transparent;\n",
              "    border-bottom-color: var(--fill-color);\n",
              "    animation:\n",
              "      spin 1s steps(1) infinite;\n",
              "  }\n",
              "\n",
              "  @keyframes spin {\n",
              "    0% {\n",
              "      border-color: transparent;\n",
              "      border-bottom-color: var(--fill-color);\n",
              "      border-left-color: var(--fill-color);\n",
              "    }\n",
              "    20% {\n",
              "      border-color: transparent;\n",
              "      border-left-color: var(--fill-color);\n",
              "      border-top-color: var(--fill-color);\n",
              "    }\n",
              "    30% {\n",
              "      border-color: transparent;\n",
              "      border-left-color: var(--fill-color);\n",
              "      border-top-color: var(--fill-color);\n",
              "      border-right-color: var(--fill-color);\n",
              "    }\n",
              "    40% {\n",
              "      border-color: transparent;\n",
              "      border-right-color: var(--fill-color);\n",
              "      border-top-color: var(--fill-color);\n",
              "    }\n",
              "    60% {\n",
              "      border-color: transparent;\n",
              "      border-right-color: var(--fill-color);\n",
              "    }\n",
              "    80% {\n",
              "      border-color: transparent;\n",
              "      border-right-color: var(--fill-color);\n",
              "      border-bottom-color: var(--fill-color);\n",
              "    }\n",
              "    90% {\n",
              "      border-color: transparent;\n",
              "      border-bottom-color: var(--fill-color);\n",
              "    }\n",
              "  }\n",
              "</style>\n",
              "\n",
              "  <script>\n",
              "    async function quickchart(key) {\n",
              "      const quickchartButtonEl =\n",
              "        document.querySelector('#' + key + ' button');\n",
              "      quickchartButtonEl.disabled = true;  // To prevent multiple clicks.\n",
              "      quickchartButtonEl.classList.add('colab-df-spinner');\n",
              "      try {\n",
              "        const charts = await google.colab.kernel.invokeFunction(\n",
              "            'suggestCharts', [key], {});\n",
              "      } catch (error) {\n",
              "        console.error('Error during call to suggestCharts:', error);\n",
              "      }\n",
              "      quickchartButtonEl.classList.remove('colab-df-spinner');\n",
              "      quickchartButtonEl.classList.add('colab-df-quickchart-complete');\n",
              "    }\n",
              "    (() => {\n",
              "      let quickchartButtonEl =\n",
              "        document.querySelector('#df-1bc7d61e-4e92-4b82-9cc5-ba693775180d button');\n",
              "      quickchartButtonEl.style.display =\n",
              "        google.colab.kernel.accessAllowed ? 'block' : 'none';\n",
              "    })();\n",
              "  </script>\n",
              "</div>\n",
              "\n",
              "  <div id=\"id_66fa6f4e-6671-41b2-8298-0651427fafd8\">\n",
              "    <style>\n",
              "      .colab-df-generate {\n",
              "        background-color: #E8F0FE;\n",
              "        border: none;\n",
              "        border-radius: 50%;\n",
              "        cursor: pointer;\n",
              "        display: none;\n",
              "        fill: #1967D2;\n",
              "        height: 32px;\n",
              "        padding: 0 0 0 0;\n",
              "        width: 32px;\n",
              "      }\n",
              "\n",
              "      .colab-df-generate:hover {\n",
              "        background-color: #E2EBFA;\n",
              "        box-shadow: 0px 1px 2px rgba(60, 64, 67, 0.3), 0px 1px 3px 1px rgba(60, 64, 67, 0.15);\n",
              "        fill: #174EA6;\n",
              "      }\n",
              "\n",
              "      [theme=dark] .colab-df-generate {\n",
              "        background-color: #3B4455;\n",
              "        fill: #D2E3FC;\n",
              "      }\n",
              "\n",
              "      [theme=dark] .colab-df-generate:hover {\n",
              "        background-color: #434B5C;\n",
              "        box-shadow: 0px 1px 3px 1px rgba(0, 0, 0, 0.15);\n",
              "        filter: drop-shadow(0px 1px 2px rgba(0, 0, 0, 0.3));\n",
              "        fill: #FFFFFF;\n",
              "      }\n",
              "    </style>\n",
              "    <button class=\"colab-df-generate\" onclick=\"generateWithVariable('df_train_scaled')\"\n",
              "            title=\"Generate code using this dataframe.\"\n",
              "            style=\"display:none;\">\n",
              "\n",
              "  <svg xmlns=\"http://www.w3.org/2000/svg\" height=\"24px\"viewBox=\"0 0 24 24\"\n",
              "       width=\"24px\">\n",
              "    <path d=\"M7,19H8.4L18.45,9,17,7.55,7,17.6ZM5,21V16.75L18.45,3.32a2,2,0,0,1,2.83,0l1.4,1.43a1.91,1.91,0,0,1,.58,1.4,1.91,1.91,0,0,1-.58,1.4L9.25,21ZM18.45,9,17,7.55Zm-12,3A5.31,5.31,0,0,0,4.9,8.1,5.31,5.31,0,0,0,1,6.5,5.31,5.31,0,0,0,4.9,4.9,5.31,5.31,0,0,0,6.5,1,5.31,5.31,0,0,0,8.1,4.9,5.31,5.31,0,0,0,12,6.5,5.46,5.46,0,0,0,6.5,12Z\"/>\n",
              "  </svg>\n",
              "    </button>\n",
              "    <script>\n",
              "      (() => {\n",
              "      const buttonEl =\n",
              "        document.querySelector('#id_66fa6f4e-6671-41b2-8298-0651427fafd8 button.colab-df-generate');\n",
              "      buttonEl.style.display =\n",
              "        google.colab.kernel.accessAllowed ? 'block' : 'none';\n",
              "\n",
              "      buttonEl.onclick = () => {\n",
              "        google.colab.notebook.generateWithVariable('df_train_scaled');\n",
              "      }\n",
              "      })();\n",
              "    </script>\n",
              "  </div>\n",
              "\n",
              "    </div>\n",
              "  </div>\n"
            ],
            "application/vnd.google.colaboratory.intrinsic+json": {
              "type": "dataframe",
              "variable_name": "df_train_scaled",
              "summary": "{\n  \"name\": \"df_train_scaled\",\n  \"rows\": 436,\n  \"fields\": [\n    {\n      \"column\": 0,\n      \"properties\": {\n        \"dtype\": \"number\",\n        \"std\": 0.1544355924969463,\n        \"min\": 0.0,\n        \"max\": 1.0,\n        \"num_unique_values\": 251,\n        \"samples\": [\n          0.04512067156348373,\n          0.43336831059811126,\n          0.08793284365162646\n        ],\n        \"semantic_type\": \"\",\n        \"description\": \"\"\n      }\n    },\n    {\n      \"column\": 1,\n      \"properties\": {\n        \"dtype\": \"number\",\n        \"std\": 0.1795786660797366,\n        \"min\": 0.0,\n        \"max\": 1.0,\n        \"num_unique_values\": 5,\n        \"samples\": [\n          0.25,\n          1.0,\n          0.75\n        ],\n        \"semantic_type\": \"\",\n        \"description\": \"\"\n      }\n    },\n    {\n      \"column\": 2,\n      \"properties\": {\n        \"dtype\": \"number\",\n        \"std\": 0.17703686250946335,\n        \"min\": 0.0,\n        \"max\": 1.0,\n        \"num_unique_values\": 4,\n        \"samples\": [\n          1.0,\n          0.6666666666666667,\n          0.3333333333333333\n        ],\n        \"semantic_type\": \"\",\n        \"description\": \"\"\n      }\n    },\n    {\n      \"column\": 3,\n      \"properties\": {\n        \"dtype\": \"number\",\n        \"std\": 0.30389537128174265,\n        \"min\": 0.0,\n        \"max\": 1.0,\n        \"num_unique_values\": 4,\n        \"samples\": [\n          1.0,\n          0.0,\n          0.6666666666666667\n        ],\n        \"semantic_type\": \"\",\n        \"description\": \"\"\n      }\n    },\n    {\n      \"column\": 4,\n      \"properties\": {\n        \"dtype\": \"number\",\n        \"std\": 0.2972873874496525,\n        \"min\": 0.0,\n        \"max\": 1.0,\n        \"num_unique_values\": 4,\n        \"samples\": [\n          1.0,\n          0.3333333333333333,\n          0.6666666666666666\n        ],\n        \"semantic_type\": \"\",\n        \"description\": \"\"\n      }\n    },\n    {\n      \"column\": 5,\n      \"properties\": {\n        \"dtype\": \"number\",\n        \"std\": 0.2857193699552153,\n        \"min\": 0.0,\n        \"max\": 1.0,\n        \"num_unique_values\": 2,\n        \"samples\": [\n          0.0,\n          1.0\n        ],\n        \"semantic_type\": \"\",\n        \"description\": \"\"\n      }\n    },\n    {\n      \"column\": 6,\n      \"properties\": {\n        \"dtype\": \"number\",\n        \"std\": 0.40849360484956776,\n        \"min\": 0.0,\n        \"max\": 1.0,\n        \"num_unique_values\": 2,\n        \"samples\": [\n          1.0,\n          0.0\n        ],\n        \"semantic_type\": \"\",\n        \"description\": \"\"\n      }\n    },\n    {\n      \"column\": 7,\n      \"properties\": {\n        \"dtype\": \"number\",\n        \"std\": 0.49027234520933793,\n        \"min\": 0.0,\n        \"max\": 1.0,\n        \"num_unique_values\": 2,\n        \"samples\": [\n          1.0,\n          0.0\n        ],\n        \"semantic_type\": \"\",\n        \"description\": \"\"\n      }\n    },\n    {\n      \"column\": 8,\n      \"properties\": {\n        \"dtype\": \"number\",\n        \"std\": 0.21914099936347986,\n        \"min\": 0.0,\n        \"max\": 1.0,\n        \"num_unique_values\": 2,\n        \"samples\": [\n          1.0,\n          0.0\n        ],\n        \"semantic_type\": \"\",\n        \"description\": \"\"\n      }\n    },\n    {\n      \"column\": 9,\n      \"properties\": {\n        \"dtype\": \"number\",\n        \"std\": 0.48555535084537754,\n        \"min\": 0.0,\n        \"max\": 1.0,\n        \"num_unique_values\": 2,\n        \"samples\": [\n          0.0,\n          1.0\n        ],\n        \"semantic_type\": \"\",\n        \"description\": \"\"\n      }\n    },\n    {\n      \"column\": 10,\n      \"properties\": {\n        \"dtype\": \"number\",\n        \"std\": 0.45273839604872845,\n        \"min\": 0.0,\n        \"max\": 1.0,\n        \"num_unique_values\": 2,\n        \"samples\": [\n          0.0,\n          1.0\n        ],\n        \"semantic_type\": \"\",\n        \"description\": \"\"\n      }\n    }\n  ]\n}"
            }
          },
          "metadata": {},
          "execution_count": 142
        }
      ],
      "source": [
        "scaler = 'normalize'\n",
        "# scaler = 'standard'\n",
        "\n",
        "df_train = df.iloc[0:a,:]\n",
        "df_valid = df.iloc[a:,:]\n",
        "y_train = df_train.values[:, 0]\n",
        "y_valid = df_valid.values[:, 0]\n",
        "\n",
        "df_train1 = (df_train.iloc[:,[5,6,7,8,9,11]] == \"yes\").replace(True,1).replace(False,0)\n",
        "df_train = pd.concat([df_train.iloc[:,[0,1,2,3,4,10,12]], df_train1], axis = 1)\n",
        "\n",
        "df_valid1 = (df_valid.iloc[:,[5,6,7,8,9,11]] == \"yes\").replace(True,1).replace(False,0)\n",
        "df_valid = pd.concat([df_valid.iloc[:,[0,1,2,3,4,10,12]], df_valid1], axis = 1)\n",
        "\n",
        "df_train_s = df_train.drop(['price','furnishingstatus'], axis='columns')\n",
        "df_valid_s = df_valid.drop(['price','furnishingstatus'], axis='columns')\n",
        "\n",
        "if scaler == 'normalize':\n",
        "    min_max_scaled= preprocessing.MinMaxScaler()\n",
        "else:\n",
        "    min_max_scaled= preprocessing.StandardScaler()\n",
        "\n",
        "df_train_scaled = min_max_scaled.fit_transform(df_train_s)\n",
        "df_valid_scaled = min_max_scaled.fit_transform(df_valid_s)\n",
        "df_train_scaled = pd.DataFrame(df_train_scaled)\n",
        "df_valid_scaled = pd.DataFrame(df_valid_scaled)\n",
        "df_train_scaled"
      ]
    },
    {
      "cell_type": "code",
      "execution_count": 143,
      "metadata": {
        "id": "DSrC2FO6POtn"
      },
      "outputs": [],
      "source": [
        "X1_train_scaled = df_train_scaled.values[:, 0]\n",
        "X2_train_scaled = df_train_scaled.values[:, 1]\n",
        "X3_train_scaled = df_train_scaled.values[:, 2]\n",
        "X4_train_scaled = df_train_scaled.values[:, 3]\n",
        "X5_train_scaled = df_train_scaled.values[:, 4]\n",
        "X6_train_scaled = df_train_scaled.values[:, 5]\n",
        "X7_train_scaled = df_train_scaled.values[:, 6]\n",
        "X8_train_scaled = df_train_scaled.values[:, 7]\n",
        "X9_train_scaled = df_train_scaled.values[:, 8]\n",
        "X10_train_scaled = df_train_scaled.values[:, 9]\n",
        "X11_train_scaled = df_train_scaled.values[:, 10]\n",
        "\n",
        "\n",
        "X1_valid_scaled = df_valid_scaled.values[:, 0]\n",
        "X2_valid_scaled = df_valid_scaled.values[:, 1]\n",
        "X3_valid_scaled = df_valid_scaled.values[:, 2]\n",
        "X4_valid_scaled = df_valid_scaled.values[:, 3]\n",
        "X5_valid_scaled = df_valid_scaled.values[:, 4]\n",
        "X6_valid_scaled = df_valid_scaled.values[:, 5]\n",
        "X7_valid_scaled = df_valid_scaled.values[:, 6]\n",
        "X8_valid_scaled = df_valid_scaled.values[:, 7]\n",
        "X9_valid_scaled = df_valid_scaled.values[:, 8]\n",
        "X10_valid_scaled = df_valid_scaled.values[:, 9]\n",
        "X11_valid_scaled = df_valid_scaled.values[:, 10]\n",
        "\n",
        "m_train_scaled = len(y_train)\n",
        "m_valid_scaled = len(y_valid)\n",
        "n_train_scaled = len(X1_train_scaled)\n",
        "n_valid_scaled = len(X1_valid_scaled)\n",
        "\n",
        "\n",
        "X_0_train_scaled = np.ones((m_train_scaled, 1))\n",
        "X_1_train_scaled = X1_train_scaled.reshape(m_train_scaled, 1)\n",
        "X_2_train_scaled = X2_train_scaled.reshape(m_train_scaled, 1)\n",
        "X_3_train_scaled = X3_train_scaled.reshape(m_train_scaled, 1)\n",
        "X_4_train_scaled = X4_train_scaled.reshape(m_train_scaled, 1)\n",
        "X_5_train_scaled = X5_train_scaled.reshape(m_train_scaled, 1)\n",
        "X_6_train_scaled = X6_train_scaled.reshape(m_train_scaled, 1)\n",
        "X_7_train_scaled = X7_train_scaled.reshape(m_train_scaled, 1)\n",
        "X_8_train_scaled = X8_train_scaled.reshape(m_train_scaled, 1)\n",
        "X_9_train_scaled = X9_train_scaled.reshape(m_train_scaled, 1)\n",
        "X_10_train_scaled = X10_train_scaled.reshape(m_train_scaled, 1)\n",
        "X_11_train_scaled = X11_train_scaled.reshape(m_train_scaled, 1)\n",
        "\n",
        "\n",
        "X_0_valid_scaled = np.ones((m_valid_scaled, 1))\n",
        "X_1_valid_scaled = X1_valid_scaled.reshape(m_valid_scaled, 1)\n",
        "X_2_valid_scaled = X2_valid_scaled.reshape(m_valid_scaled, 1)\n",
        "X_3_valid_scaled = X3_valid_scaled.reshape(m_valid_scaled, 1)\n",
        "X_4_valid_scaled = X4_valid_scaled.reshape(m_valid_scaled, 1)\n",
        "X_5_valid_scaled = X5_valid_scaled.reshape(m_valid_scaled, 1)\n",
        "X_6_valid_scaled = X6_valid_scaled.reshape(m_valid_scaled, 1)\n",
        "X_7_valid_scaled = X7_valid_scaled.reshape(m_valid_scaled, 1)\n",
        "X_8_valid_scaled = X8_valid_scaled.reshape(m_valid_scaled, 1)\n",
        "X_9_valid_scaled = X9_valid_scaled.reshape(m_valid_scaled, 1)\n",
        "X_10_valid_scaled = X10_valid_scaled.reshape(m_valid_scaled, 1)\n",
        "X_11_valid_scaled = X11_valid_scaled.reshape(m_valid_scaled, 1)\n",
        "\n",
        "X_train_scaled = np.hstack((X_0_train_scaled, X_1_train_scaled, X_2_train_scaled, X_3_train_scaled, X_4_train_scaled, X_5_train_scaled, X_6_train_scaled, X_7_train_scaled, X_8_train_scaled, X_9_train_scaled, X_10_train_scaled, X_11_train_scaled))\n",
        "X_valid_scaled = np.hstack((X_0_valid_scaled, X_1_valid_scaled, X_2_valid_scaled, X_3_valid_scaled, X_4_valid_scaled, X_5_valid_scaled, X_6_valid_scaled, X_7_valid_scaled, X_8_valid_scaled, X_9_valid_scaled, X_10_valid_scaled, X_11_valid_scaled))\n"
      ]
    },
    {
      "cell_type": "code",
      "execution_count": 144,
      "metadata": {
        "colab": {
          "base_uri": "https://localhost:8080/"
        },
        "id": "FvO9M41VgdDw",
        "outputId": "7f86267b-76f1-46fd-f2c2-3a3734d2bfab"
      },
      "outputs": [
        {
          "output_type": "stream",
          "name": "stdout",
          "text": [
            " Maximum iterations: 500\n",
            "Learning rate is: 0.01\n",
            "θ is: [3, 1, 5, 100, 3.4, 4.5, 8.9, 0.2, 13, 98, 34, 35.7]\n"
          ]
        }
      ],
      "source": [
        "it = 500 # Maximum iterations\n",
        "# alpha = 0.000000001 # Learning Rate\n",
        "alpha = 0.01 # Learning Rate\n",
        "\n",
        "# theta = np.zeros(5)\n",
        "# theta_scaled = [1,1,1,1,1]\n",
        "theta_scaled = [3,1,5,100,3.4,4.5,8.9,0.2,13,98,34,35.7]\n",
        "\n",
        "print(f' Maximum iterations: {it}')\n",
        "print(f'Learning rate is: {alpha}')\n",
        "print(f'θ is: {theta_scaled}')"
      ]
    },
    {
      "cell_type": "code",
      "execution_count": 145,
      "metadata": {
        "colab": {
          "base_uri": "https://localhost:8080/"
        },
        "id": "H-LmhHWWPZgk",
        "outputId": "df517897-0cb2-4c48-e0d1-bce05ab2ba8b"
      },
      "outputs": [
        {
          "output_type": "stream",
          "name": "stdout",
          "text": [
            "The cost of the test dataset for given values of theta_0 and theta_1 = 15435468761074.764\n",
            "The cost of the validation dataset for given values of theta_0 and theta_1 = 3791221989405.1147\n",
            "Final value of theta for test = [2024636.0008162279 821421.2101271544 761159.2138257601 709394.9234265799\n",
            " 1039526.7730163104 808319.6881027549 1566303.835094219 351131.2171028954\n",
            " 468305.9673273374 299917.8962863884 984888.8505952938 546466.1582566486]\n",
            "Final value of theta for validation = [1657532.2599193377 637896.1871187608 470279.0172306601 628312.8482613574\n",
            " 635018.4220584345 652680.4180830579 448130.3312666176 306692.2481933054\n",
            " 224802.74427021257 280153.80720951 760351.8214958389 470528.5101556415]\n"
          ]
        }
      ],
      "source": [
        "cost_train_scaled = compute_cost(X_train_scaled, y_train, theta_scaled)\n",
        "print('The cost of the test dataset for given values of theta_0 and theta_1 =', cost_train_scaled)\n",
        "\n",
        "cost_valid_scaled = compute_cost(X_valid_scaled, y_valid, theta_scaled)\n",
        "print('The cost of the validation dataset for given values of theta_0 and theta_1 =', cost_valid_scaled)\n",
        "\n",
        "theta_scaled, cost_history_train_scaled = gradient_descent(X_train_scaled, y_train, theta_scaled, alpha, it)\n",
        "print('Final value of theta for test =', theta_scaled)\n",
        "\n",
        "theta_scaled, cost_history_valid_scaled = gradient_descent(X_valid_scaled, y_valid, theta_scaled, alpha, it)\n",
        "print('Final value of theta for validation =', theta_scaled)\n"
      ]
    },
    {
      "cell_type": "code",
      "execution_count": 146,
      "metadata": {
        "colab": {
          "base_uri": "https://localhost:8080/",
          "height": 619
        },
        "id": "1MmH_Upxg6Il",
        "outputId": "cbc4587a-364b-4839-c909-f096a8a0fd78"
      },
      "outputs": [
        {
          "output_type": "stream",
          "name": "stderr",
          "text": [
            "WARNING:matplotlib.legend:No artists with labels found to put in legend.  Note that artists whose label start with an underscore are ignored when legend() is called with no argument.\n"
          ]
        },
        {
          "output_type": "execute_result",
          "data": {
            "text/plain": [
              "<matplotlib.legend.Legend at 0x7e35b3f2ba90>"
            ]
          },
          "metadata": {},
          "execution_count": 146
        },
        {
          "output_type": "display_data",
          "data": {
            "text/plain": [
              "<Figure size 1000x600 with 1 Axes>"
            ],
            "image/png": "[encoded data removed]"
          },
          "metadata": {}
        }
      ],
      "source": [
        "plt.plot(range(1, it + 1), cost_history_train_scaled)\n",
        "plt.plot(range(1, it + 1), cost_history_valid_scaled)\n",
        "\n",
        "plt.rcParams[\"figure.figsize\"] = (10,6)\n",
        "plt.grid(1)\n",
        "plt.xlabel('Number of iterations')\n",
        "plt.ylabel('Cost (J)')\n",
        "plt.title(f'Loss convergence for input={scaler}ization, learning rate={alpha}, iteration={it}')\n",
        "plt.legend()"
      ]
    },
    {
      "cell_type": "markdown",
      "metadata": {
        "id": "PDxFDconUT1C"
      },
      "source": [
        "## Problem III"
      ]
    },
    {
      "cell_type": "markdown",
      "metadata": {
        "id": "aKVw9NVhUXAS"
      },
      "source": [
        "###  A: Repeat problem 2 a, this time by adding a parameters penalty to your loss function. Note that in this case, you need to modify the gradient decent logic for your training set, but you don’t need to change your loss for the evaluation set.  \n",
        "\n",
        "### Plot your results (both training and evaluation losses) for the best input scaling approach (standardization or normalization). Explain your results and compare them against problem 2 a."
      ]
    },
    {
      "cell_type": "code",
      "execution_count": 181,
      "metadata": {
        "id": "ezZmNEjX4ZiV"
      },
      "outputs": [],
      "source": [
        "def compute_cost_reg(X, y, theta, lam):\n",
        "    m_y = len(y)\n",
        "    predictions = X.dot(theta)\n",
        "    errors = np.subtract(predictions, y)\n",
        "    sqrErrors = np.square(errors)\n",
        "    J = 1 / (2 * m_y) * np.sum(sqrErrors) + lam / (2* m_y) * np.sum(theta[1:])\n",
        "    return J\n",
        "\n",
        "def gradient_descent_reg(X, y, theta, alpha, iterations, lam):\n",
        "    m_y = len(y)\n",
        "    cost_history = np.zeros(iterations)\n",
        "    for i in range(iterations):\n",
        "        predictions = X.dot(theta)\n",
        "        errors = np.subtract(predictions, y)\n",
        "        sum_delta = (alpha / m_y) * X.transpose().dot(errors);\n",
        "        theta = theta - sum_delta;\n",
        "        cost_history[i] = compute_cost_reg(X, y, theta, lam)\n",
        "    return theta, cost_history"
      ]
    },
    {
      "cell_type": "code",
      "execution_count": 182,
      "metadata": {
        "id": "b5N_VJ0_5Xhr"
      },
      "outputs": [],
      "source": [
        "# scaler = 'normalize'\n",
        "scaler = 'standard'\n",
        "\n",
        "df_train = df.iloc[0:a,:]\n",
        "df_valid = df.iloc[a:,:]\n",
        "y_train = df_train.values[:, 0]\n",
        "y_valid = df_valid.values[:, 0]\n",
        "\n",
        "df_train1 = (df_train.iloc[:,[5,6,7,8,9,11]] == \"yes\").replace(True,1).replace(False,0)\n",
        "df_train = pd.concat([df_train.iloc[:,[0,1,2,3,4,10,12]], df_train1], axis = 1)\n",
        "\n",
        "df_valid1 = (df_valid.iloc[:,[5,6,7,8,9,11]] == \"yes\").replace(True,1).replace(False,0)\n",
        "df_valid = pd.concat([df_valid.iloc[:,[0,1,2,3,4,10,12]], df_valid1], axis = 1)\n",
        "\n",
        "df_train_s = df_train.drop(['price','furnishingstatus'], axis='columns')\n",
        "df_valid_s = df_valid.drop(['price','furnishingstatus'], axis='columns')\n",
        "\n",
        "if scaler == 'normalize':\n",
        "    min_max_scaled= preprocessing.MinMaxScaler()\n",
        "else:\n",
        "    min_max_scaled= preprocessing.StandardScaler()\n",
        "\n",
        "df_train_scaled = min_max_scaled.fit_transform(df_train_s)\n",
        "df_valid_scaled = min_max_scaled.fit_transform(df_valid_s)\n",
        "df_train_scaled = pd.DataFrame(df_train_scaled)\n",
        "df_valid_scaled = pd.DataFrame(df_valid_scaled)\n"
      ]
    },
    {
      "cell_type": "code",
      "execution_count": 183,
      "metadata": {
        "id": "4H-ckxJX5Xhs"
      },
      "outputs": [],
      "source": [
        "X1_train_scaled = df_train_scaled.values[:, 0]\n",
        "X2_train_scaled = df_train_scaled.values[:, 1]\n",
        "X3_train_scaled = df_train_scaled.values[:, 2]\n",
        "X4_train_scaled = df_train_scaled.values[:, 3]\n",
        "X5_train_scaled = df_train_scaled.values[:, 4]\n",
        "\n",
        "X1_valid_scaled = df_valid_scaled.values[:, 0]\n",
        "X2_valid_scaled = df_valid_scaled.values[:, 1]\n",
        "X3_valid_scaled = df_valid_scaled.values[:, 2]\n",
        "X4_valid_scaled = df_valid_scaled.values[:, 3]\n",
        "X5_valid_scaled = df_valid_scaled.values[:, 4]\n",
        "\n",
        "m_train = len(y_train)\n",
        "m_valid = len(y_valid)\n",
        "n_train = len(X1_train_scaled)\n",
        "n_valid = len(X1_valid_scaled)\n",
        "\n",
        "X_0_train_scaled = np.ones((m_train, 1))\n",
        "X_1_train_scaled = X1_train_scaled.reshape(m_train, 1)\n",
        "X_2_train_scaled = X2_train_scaled.reshape(m_train, 1)\n",
        "X_3_train_scaled = X3_train_scaled.reshape(m_train, 1)\n",
        "X_4_train_scaled = X4_train_scaled.reshape(m_train, 1)\n",
        "\n",
        "\n",
        "X_0_valid_scaled = np.ones((m_valid, 1))\n",
        "X_1_valid_scaled = X1_valid_scaled.reshape(m_valid, 1)\n",
        "X_2_valid_scaled = X2_valid_scaled.reshape(m_valid, 1)\n",
        "X_3_valid_scaled = X3_valid_scaled.reshape(m_valid, 1)\n",
        "X_4_valid_scaled = X4_valid_scaled.reshape(m_valid, 1)\n",
        "\n",
        "X_train_scaled = np.hstack((X_0_train_scaled, X_1_train_scaled, X_2_train_scaled, X_3_train_scaled, X_4_train_scaled))\n",
        "X_valid_scaled = np.hstack((X_0_valid_scaled, X_1_valid_scaled, X_2_valid_scaled, X_3_valid_scaled, X_4_valid_scaled))"
      ]
    },
    {
      "cell_type": "code",
      "execution_count": 184,
      "metadata": {
        "colab": {
          "base_uri": "https://localhost:8080/"
        },
        "id": "6IA3UXwW5Xht",
        "outputId": "56c41026-aef1-4401-9337-0889dd1c3be4"
      },
      "outputs": [
        {
          "output_type": "stream",
          "name": "stdout",
          "text": [
            " Maximum iterations: 500\n",
            "Learning rate is: 0.01\n",
            "θ is: [3, 1, 5, 100, 3.4]\n"
          ]
        }
      ],
      "source": [
        "it = 500 # Maximum iterations\n",
        "# alpha = 0.1 # Learning Rate\n",
        "alpha = 0.01 # Learning Rate\n",
        "\n",
        "# theta_scaled = np.zeros(5)\n",
        "# theta_scaled = [1,1,1,1,1]\n",
        "theta_scaled = [3,1,5,100,3.4]\n",
        "\n",
        "print(f' Maximum iterations: {it}')\n",
        "print(f'Learning rate is: {alpha}')\n",
        "print(f'θ is: {theta_scaled}')"
      ]
    },
    {
      "cell_type": "code",
      "execution_count": 185,
      "metadata": {
        "colab": {
          "base_uri": "https://localhost:8080/"
        },
        "id": "6cnftYIH5Xht",
        "outputId": "8a3449c4-c34a-4c45-9b0f-c8f6db3a6c4a"
      },
      "outputs": [
        {
          "output_type": "stream",
          "name": "stdout",
          "text": [
            "The cost of the test dataset for given values of theta_0 and theta_1 = 15435717293691.42\n",
            "The cost of the validation dataset for given values of theta_0 and theta_1 = 3791276204046.038\n",
            "Final value of theta for test = [5243088.465680327 716312.1583610106 114538.75604238409 577017.4838841883\n",
            " 433481.597842064]\n",
            "Final value of theta for validation = [2739143.51006105 118049.35467649084 -42125.98291176375\n",
            " -5674.5843261151485 74226.80428245997]\n"
          ]
        }
      ],
      "source": [
        "# cost_train_scaled = compute_cost(X_train_scaled, y_train, theta_scaled)\n",
        "cost_train_scaled = compute_cost_reg(X_train_scaled, y_train, theta_scaled, lam=0)\n",
        "print('The cost of the test dataset for given values of theta_0 and theta_1 =', cost_train_scaled)\n",
        "\n",
        "cost_valid_scaled = compute_cost(X_valid_scaled, y_valid, theta_scaled)\n",
        "print('The cost of the validation dataset for given values of theta_0 and theta_1 =', cost_valid_scaled)\n",
        "\n",
        "# theta_scaled, cost_history_train_scaled = gradient_descent(X_train_scaled, y_train, theta_scaled, alpha, it)\n",
        "theta_scaled, cost_history_train_scaled = gradient_descent_reg(X_train_scaled, y_train, theta_scaled, alpha, it, lam=0)\n",
        "print('Final value of theta for test =', theta_scaled)\n",
        "\n",
        "theta_scaled, cost_history_valid_scaled = gradient_descent(X_valid_scaled, y_valid, theta_scaled, alpha, it)\n",
        "print('Final value of theta for validation =', theta_scaled)\n"
      ]
    },
    {
      "cell_type": "code",
      "execution_count": 186,
      "metadata": {
        "id": "bMlpdlh85Xhu"
      },
      "outputs": [],
      "source": [
        "# plt.scatter(X_train_scaled[:,1], y_train, color='b', marker= '+', label= 'Training Data')\n",
        "# plt.plot(X_train_scaled[:,1],X_train_scaled.dot(theta_train_scaled), color='r', label='Linear Regression')\n",
        "# plt.rcParams[\"figure.figsize\"] = (10,6)\n",
        "# plt.xlabel('Input')\n",
        "# plt.ylabel('House Price($)')\n",
        "# plt.title(f'LR, X1, learning rate={alpha}, iteration={it}')\n",
        "# plt.legend()\n",
        "# plt.grid()"
      ]
    },
    {
      "cell_type": "code",
      "execution_count": 187,
      "metadata": {
        "id": "kp4WgUFU5Xhu"
      },
      "outputs": [],
      "source": [
        "# plt.scatter(X_valid_scaled[:,1], y_valid, color='b', marker= '+', label= 'Training Data')\n",
        "# plt.plot(X_valid_scaled[:,1], X_valid_scaled.dot(theta_valid_scaled), color='r', label='Linear Regression')\n",
        "# plt.rcParams[\"figure.figsize\"] = (10,6)\n",
        "# plt.xlabel('Features')\n",
        "# plt.ylabel('House Price($)')\n",
        "# plt.title(f'LR, X1, learning rate={alpha}, iteration={it}')\n",
        "# plt.legend()\n",
        "# plt.grid()"
      ]
    },
    {
      "cell_type": "code",
      "execution_count": 188,
      "metadata": {
        "colab": {
          "base_uri": "https://localhost:8080/",
          "height": 619
        },
        "id": "QQA12-pc5Xhu",
        "outputId": "1e73a797-8c59-4d85-8a9c-0660cd87e022"
      },
      "outputs": [
        {
          "output_type": "stream",
          "name": "stderr",
          "text": [
            "WARNING:matplotlib.legend:No artists with labels found to put in legend.  Note that artists whose label start with an underscore are ignored when legend() is called with no argument.\n"
          ]
        },
        {
          "output_type": "execute_result",
          "data": {
            "text/plain": [
              "<matplotlib.legend.Legend at 0x7e35b27c0580>"
            ]
          },
          "metadata": {},
          "execution_count": 188
        },
        {
          "output_type": "display_data",
          "data": {
            "text/plain": [
              "<Figure size 1000x600 with 1 Axes>"
            ],
            "image/png": "[encoded data removed]"
          },
          "metadata": {}
        }
      ],
      "source": [
        "plt.plot(range(1, it + 1), cost_history_train_scaled)\n",
        "plt.plot(range(1, it + 1), cost_history_valid_scaled)\n",
        "\n",
        "plt.rcParams[\"figure.figsize\"] = (10,6)\n",
        "plt.grid(1)\n",
        "plt.xlabel('Number of iterations')\n",
        "plt.ylabel('Cost (J)')\n",
        "plt.title(f'Loss convergence for input={scaler}ization, learning rate={alpha}, iteration={it}')\n",
        "plt.legend()"
      ]
    },
    {
      "cell_type": "markdown",
      "metadata": {
        "id": "0SGCclZWUdrS"
      },
      "source": [
        "### B: Repeat problem 2 b, this time by adding a parameters penalty to your loss function. Note that in this case, you need to modify the gradient decent logic for your training set, but you don’t need to change your loss for the evaluation set.\n",
        "\n",
        "### Plot your results (both training and evaluation losses) for the best input scaling approach (standardization or normalization). Explain your results and compare them against problem 2 a."
      ]
    },
    {
      "cell_type": "code",
      "execution_count": 189,
      "metadata": {
        "id": "0yu5N-HM5o8o"
      },
      "outputs": [],
      "source": [
        "scaler = 'normalize'\n",
        "# scaler = 'standard'\n",
        "\n",
        "\n",
        "df_train = df.iloc[0:a,:]\n",
        "df_valid = df.iloc[a:,:]\n",
        "\n",
        "y_train = df_train.values[:, 0]\n",
        "y_valid = df_valid.values[:, 0]\n",
        "\n",
        "df_train1 = (df_train.iloc[:,[5,6,7,8,9,11]] == \"yes\").replace(True,1).replace(False,0)\n",
        "df_train = pd.concat([df_train.iloc[:,[0,1,2,3,4,10,12]], df_train1], axis = 1)\n",
        "df_valid1 = (df_valid.iloc[:,[5,6,7,8,9,11]] == \"yes\").replace(True,1).replace(False,0)\n",
        "df_valid = pd.concat([df_valid.iloc[:,[0,1,2,3,4,10,12]], df_valid1], axis = 1)\n",
        "\n",
        "df_train_s = df_train.drop(['price','furnishingstatus'], axis='columns')\n",
        "df_valid_s = df_valid.drop(['price','furnishingstatus'], axis='columns')\n",
        "\n",
        "if scaler == 'normalize':\n",
        "    min_max= preprocessing.MinMaxScaler()\n",
        "else:\n",
        "    min_max= preprocessing.StandardScaler()\n",
        "\n",
        "df_train_scaled = min_max_scaled.fit_transform(df_train_s)\n",
        "df_valid_scaled = min_max_scaled.fit_transform(df_valid_s)\n",
        "df_train_scaled = pd.DataFrame(df_train_scaled)\n",
        "df_valid_scaled = pd.DataFrame(df_valid_scaled)"
      ]
    },
    {
      "cell_type": "code",
      "execution_count": 190,
      "metadata": {
        "id": "L4EUDq6d5o8o"
      },
      "outputs": [],
      "source": [
        "X1_train_scaled = df_train_scaled.values[:, 0]\n",
        "X2_train_scaled = df_train_scaled.values[:, 1]\n",
        "X3_train_scaled = df_train_scaled.values[:, 2]\n",
        "X4_train_scaled = df_train_scaled.values[:, 3]\n",
        "X5_train_scaled = df_train_scaled.values[:, 4]\n",
        "X6_train_scaled = df_train_scaled.values[:, 5]\n",
        "X7_train_scaled = df_train_scaled.values[:, 6]\n",
        "X8_train_scaled = df_train_scaled.values[:, 7]\n",
        "X9_train_scaled = df_train_scaled.values[:, 8]\n",
        "X10_train_scaled = df_train_scaled.values[:, 9]\n",
        "X11_train_scaled = df_train_scaled.values[:, 10]\n",
        "\n",
        "\n",
        "X1_valid_scaled = df_valid_scaled.values[:, 0]\n",
        "X2_valid_scaled = df_valid_scaled.values[:, 1]\n",
        "X3_valid_scaled = df_valid_scaled.values[:, 2]\n",
        "X4_valid_scaled = df_valid_scaled.values[:, 3]\n",
        "X5_valid_scaled = df_valid_scaled.values[:, 4]\n",
        "X6_valid_scaled = df_valid_scaled.values[:, 5]\n",
        "X7_valid_scaled = df_valid_scaled.values[:, 6]\n",
        "X8_valid_scaled = df_valid_scaled.values[:, 7]\n",
        "X9_valid_scaled = df_valid_scaled.values[:, 8]\n",
        "X10_valid_scaled = df_valid_scaled.values[:, 9]\n",
        "X11_valid_scaled = df_valid_scaled.values[:, 10]\n",
        "\n",
        "m_train_scaled = len(y_train)\n",
        "m_valid_scaled = len(y_valid)\n",
        "n_train_scaled = len(X1_train_scaled)\n",
        "n_valid_scaled = len(X1_valid_scaled)\n",
        "\n",
        "\n",
        "X_0_train_scaled = np.ones((m_train_scaled, 1))\n",
        "X_1_train_scaled = X1_train_scaled.reshape(m_train_scaled, 1)\n",
        "X_2_train_scaled = X2_train_scaled.reshape(m_train_scaled, 1)\n",
        "X_3_train_scaled = X3_train_scaled.reshape(m_train_scaled, 1)\n",
        "X_4_train_scaled = X4_train_scaled.reshape(m_train_scaled, 1)\n",
        "X_5_train_scaled = X5_train_scaled.reshape(m_train_scaled, 1)\n",
        "X_6_train_scaled = X6_train_scaled.reshape(m_train_scaled, 1)\n",
        "X_7_train_scaled = X7_train_scaled.reshape(m_train_scaled, 1)\n",
        "X_8_train_scaled = X8_train_scaled.reshape(m_train_scaled, 1)\n",
        "X_9_train_scaled = X9_train_scaled.reshape(m_train_scaled, 1)\n",
        "X_10_train_scaled = X10_train_scaled.reshape(m_train_scaled, 1)\n",
        "X_11_train_scaled = X11_train_scaled.reshape(m_train_scaled, 1)\n",
        "\n",
        "\n",
        "X_0_valid_scaled = np.ones((m_valid_scaled, 1))\n",
        "X_1_valid_scaled = X1_valid_scaled.reshape(m_valid_scaled, 1)\n",
        "X_2_valid_scaled = X2_valid_scaled.reshape(m_valid_scaled, 1)\n",
        "X_3_valid_scaled = X3_valid_scaled.reshape(m_valid_scaled, 1)\n",
        "X_4_valid_scaled = X4_valid_scaled.reshape(m_valid_scaled, 1)\n",
        "X_5_valid_scaled = X5_valid_scaled.reshape(m_valid_scaled, 1)\n",
        "X_6_valid_scaled = X6_valid_scaled.reshape(m_valid_scaled, 1)\n",
        "X_7_valid_scaled = X7_valid_scaled.reshape(m_valid_scaled, 1)\n",
        "X_8_valid_scaled = X8_valid_scaled.reshape(m_valid_scaled, 1)\n",
        "X_9_valid_scaled = X9_valid_scaled.reshape(m_valid_scaled, 1)\n",
        "X_10_valid_scaled = X10_valid_scaled.reshape(m_valid_scaled, 1)\n",
        "X_11_valid_scaled = X11_valid_scaled.reshape(m_valid_scaled, 1)\n",
        "\n",
        "X_train_scaled = np.hstack((X_0_train_scaled, X_1_train_scaled, X_2_train_scaled, X_3_train_scaled, X_4_train_scaled, X_5_train_scaled, X_6_train_scaled, X_7_train_scaled, X_8_train_scaled, X_9_train_scaled, X_10_train_scaled, X_11_train_scaled))\n",
        "X_valid_scaled = np.hstack((X_0_valid_scaled, X_1_valid_scaled, X_2_valid_scaled, X_3_valid_scaled, X_4_valid_scaled, X_5_valid_scaled, X_6_valid_scaled, X_7_valid_scaled, X_8_valid_scaled, X_9_valid_scaled, X_10_valid_scaled, X_11_valid_scaled))\n"
      ]
    },
    {
      "cell_type": "code",
      "execution_count": 191,
      "metadata": {
        "colab": {
          "base_uri": "https://localhost:8080/"
        },
        "id": "uutTJ4yd5o8o",
        "outputId": "0a05109d-4300-461b-b20f-76b1f62ef1a4"
      },
      "outputs": [
        {
          "output_type": "stream",
          "name": "stdout",
          "text": [
            " Maximum iterations: 500\n",
            "Learning rate is: 0.01\n",
            "θ is: [1, 1, 1, 1, 1]\n"
          ]
        }
      ],
      "source": [
        "it = 500 # Maximum iterations\n",
        "# alpha = 0.000000001 # Learning Rate\n",
        "alpha = 0.01 # Learning Rate\n",
        "\n",
        "# theta = np.zeros(5)\n",
        "# theta = [1,1,1,1,1]\n",
        "theta_scaled = [3,1,5,100,3.4,4.5,8.9,0.2,13,98,34,35.7]\n",
        "\n",
        "print(f' Maximum iterations: {it}')\n",
        "print(f'Learning rate is: {alpha}')\n",
        "print(f'θ is: {theta}')"
      ]
    },
    {
      "cell_type": "code",
      "execution_count": 192,
      "metadata": {
        "colab": {
          "base_uri": "https://localhost:8080/"
        },
        "id": "6fXEOtAq5o8o",
        "outputId": "7326777a-6323-4dd8-ce7d-69ff56e502b1"
      },
      "outputs": [
        {
          "output_type": "stream",
          "name": "stdout",
          "text": [
            "The cost of the test dataset for given values of theta_0 and theta_1 = 15435655789901.389\n",
            "The cost of the validation dataset for given values of theta_0 and theta_1 = 3791272807499.706\n",
            "Final value of theta for test = [5243088.465680327 499876.10091177176 96236.54605115534 513843.6783679559\n",
            " 390417.824332209 247584.90462665967 153786.95436186338 123966.96686803405\n",
            " 144895.02625583878 191896.92419071632 379235.434034204 243886.24178724672]\n",
            "Final value of theta for validation = [2739143.5100610494 130437.17015364485 -55665.28040405281\n",
            " -13287.167400567869 78430.42712986194 41773.15812392122\n",
            " -40568.49194456144 3534.5140079150738 66099.19852022118\n",
            " -2057.4835993882925 40934.778533450226 35438.93473774661]\n"
          ]
        }
      ],
      "source": [
        "cost_train_scaled = compute_cost_reg(X_train_scaled, y_train, theta_scaled, lam=0)\n",
        "print('The cost of the test dataset for given values of theta_0 and theta_1 =', cost_train_scaled)\n",
        "\n",
        "cost_valid_scaled = compute_cost(X_valid_scaled, y_valid, theta_scaled)\n",
        "print('The cost of the validation dataset for given values of theta_0 and theta_1 =', cost_valid_scaled)\n",
        "\n",
        "theta_scaled, cost_history_train_scaled = gradient_descent_reg(X_train_scaled, y_train, theta_scaled, alpha, it, lam=0)\n",
        "print('Final value of theta for test =', theta_scaled)\n",
        "\n",
        "theta_scaled, cost_history_valid_scaled = gradient_descent(X_valid_scaled, y_valid, theta_scaled, alpha, it)\n",
        "print('Final value of theta for validation =', theta_scaled)\n"
      ]
    },
    {
      "cell_type": "code",
      "execution_count": 193,
      "metadata": {
        "colab": {
          "base_uri": "https://localhost:8080/",
          "height": 619
        },
        "id": "8JKfNAxs5o8p",
        "outputId": "2b2af6f7-bb28-40d1-d8af-43024a124407"
      },
      "outputs": [
        {
          "output_type": "stream",
          "name": "stderr",
          "text": [
            "WARNING:matplotlib.legend:No artists with labels found to put in legend.  Note that artists whose label start with an underscore are ignored when legend() is called with no argument.\n"
          ]
        },
        {
          "output_type": "execute_result",
          "data": {
            "text/plain": [
              "<matplotlib.legend.Legend at 0x7e35b2767100>"
            ]
          },
          "metadata": {},
          "execution_count": 193
        },
        {
          "output_type": "display_data",
          "data": {
            "text/plain": [
              "<Figure size 1000x600 with 1 Axes>"
            ],
            "image/png": "[encoded data removed]"
          },
          "metadata": {}
        }
      ],
      "source": [
        "plt.plot(range(1, it + 1), cost_history_train_scaled)\n",
        "plt.plot(range(1, it + 1), cost_history_valid_scaled)\n",
        "\n",
        "plt.rcParams[\"figure.figsize\"] = (10,6)\n",
        "plt.grid(1)\n",
        "plt.xlabel('Number of iterations')\n",
        "plt.ylabel('Cost (J)')\n",
        "plt.title(f'Loss convergence for input={scaler}ization, learning rate={alpha}, iteration={it}')\n",
        "plt.legend()"
      ]
    },
    {
      "cell_type": "code",
      "source": [],
      "metadata": {
        "id": "vY7q-hPTbWLi"
      },
      "execution_count": null,
      "outputs": []
    }
  ],
  "metadata": {
    "colab": {
      "provenance": []
    },
    "kernelspec": {
      "display_name": "Python 3",
      "name": "python3"
    },
    "language_info": {
      "name": "python"
    }
  },
  "nbformat": 4,
  "nbformat_minor": 0
}